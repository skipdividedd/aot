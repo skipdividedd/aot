{
 "cells": [
  {
   "cell_type": "code",
   "execution_count": 105,
   "metadata": {
    "execution": {
     "iopub.execute_input": "2023-11-18T21:42:40.365989Z",
     "iopub.status.busy": "2023-11-18T21:42:40.365623Z",
     "iopub.status.idle": "2023-11-18T21:42:40.372643Z",
     "shell.execute_reply": "2023-11-18T21:42:40.371599Z",
     "shell.execute_reply.started": "2023-11-18T21:42:40.365960Z"
    }
   },
   "outputs": [],
   "source": [
    "import json\n",
    "import random\n",
    "from tqdm import tqdm\n",
    "import numpy as np\n",
    "\n",
    "from matplotlib import pyplot as plt\n",
    "from sklearn.decomposition import TruncatedSVD\n",
    "from sklearn.manifold import TSNE\n",
    "\n",
    "import torch\n",
    "\n",
    "from pylab import rcParams\n",
    "rcParams['figure.figsize'] = 15, 15"
   ]
  },
  {
   "cell_type": "markdown",
   "metadata": {},
   "source": [
    "# Что делать?\n",
    "Где есть пометка # CODE писать код\n",
    "\n",
    "[Полезный туториал](http://jalammar.github.io/illustrated-word2vec/)"
   ]
  },
  {
   "cell_type": "markdown",
   "metadata": {},
   "source": [
    "# Загружаем данные\n",
    "Они уже обработанные и токенизированные. Процесс можно посмотреть в тетрадке 1.1 Processing corpus"
   ]
  },
  {
   "cell_type": "code",
   "execution_count": 106,
   "metadata": {
    "execution": {
     "iopub.execute_input": "2023-11-18T21:42:40.375251Z",
     "iopub.status.busy": "2023-11-18T21:42:40.374613Z",
     "iopub.status.idle": "2023-11-18T21:42:40.681800Z",
     "shell.execute_reply": "2023-11-18T21:42:40.681044Z",
     "shell.execute_reply.started": "2023-11-18T21:42:40.375217Z"
    }
   },
   "outputs": [],
   "source": [
    "with open('/kaggle/input/hw-data/processed_corpus.json') as f:\n",
    "    corpus = json.load(f)"
   ]
  },
  {
   "cell_type": "code",
   "execution_count": 107,
   "metadata": {
    "execution": {
     "iopub.execute_input": "2023-11-18T21:42:40.683611Z",
     "iopub.status.busy": "2023-11-18T21:42:40.683313Z",
     "iopub.status.idle": "2023-11-18T21:42:40.689325Z",
     "shell.execute_reply": "2023-11-18T21:42:40.688389Z",
     "shell.execute_reply.started": "2023-11-18T21:42:40.683584Z"
    }
   },
   "outputs": [
    {
     "data": {
      "text/plain": [
       "100000"
      ]
     },
     "execution_count": 107,
     "metadata": {},
     "output_type": "execute_result"
    }
   ],
   "source": [
    "len(corpus)"
   ]
  },
  {
   "cell_type": "code",
   "execution_count": 108,
   "metadata": {
    "execution": {
     "iopub.execute_input": "2023-11-18T21:42:40.692916Z",
     "iopub.status.busy": "2023-11-18T21:42:40.692036Z",
     "iopub.status.idle": "2023-11-18T21:42:40.699930Z",
     "shell.execute_reply": "2023-11-18T21:42:40.698798Z",
     "shell.execute_reply.started": "2023-11-18T21:42:40.692882Z"
    }
   },
   "outputs": [
    {
     "name": "stdout",
     "output_type": "stream",
     "text": [
      "второй UNK год окончательно разочаровать решить податься альфабанк\n",
      "вернуть денежный средство лицевой счёт либо зачесть счёт погашение кредит\n",
      "притом ситуация решиться участие течение сутки заявить\n",
      "мой ##число летний жизнь это самый неповоротливый работник банк который видеть\n",
      "везде написать вклад принимать очередь это\n"
     ]
    }
   ],
   "source": [
    "for text in corpus[:5]:\n",
    "    print(' '.join(text))"
   ]
  },
  {
   "cell_type": "markdown",
   "metadata": {},
   "source": [
    "# CBOW"
   ]
  },
  {
   "cell_type": "code",
   "execution_count": 109,
   "metadata": {
    "execution": {
     "iopub.execute_input": "2023-11-18T21:42:40.701748Z",
     "iopub.status.busy": "2023-11-18T21:42:40.701143Z",
     "iopub.status.idle": "2023-11-18T21:42:40.710580Z",
     "shell.execute_reply": "2023-11-18T21:42:40.709790Z",
     "shell.execute_reply.started": "2023-11-18T21:42:40.701722Z"
    }
   },
   "outputs": [],
   "source": [
    "sample_text = corpus[2]"
   ]
  },
  {
   "cell_type": "markdown",
   "metadata": {},
   "source": [
    "# Реализуйте разделение предложения на примеры методом CBOW"
   ]
  },
  {
   "cell_type": "code",
   "execution_count": 110,
   "metadata": {
    "execution": {
     "iopub.execute_input": "2023-11-18T21:42:40.712734Z",
     "iopub.status.busy": "2023-11-18T21:42:40.711801Z",
     "iopub.status.idle": "2023-11-18T21:42:40.721092Z",
     "shell.execute_reply": "2023-11-18T21:42:40.720381Z",
     "shell.execute_reply.started": "2023-11-18T21:42:40.712702Z"
    }
   },
   "outputs": [],
   "source": [
    "def cbow_split(tokens, window, pad_token='PAD'):\n",
    "\n",
    "    splits = []\n",
    "\n",
    "    for center_word_index in range(len(tokens)):\n",
    "        left_context = [tokens[i] if i >= 0 else pad_token for i in range(center_word_index - window, center_word_index)]\n",
    "        right_context = [tokens[i] if i < len(tokens) else pad_token for i in range(center_word_index + 1, center_word_index + window + 1)]\n",
    "        target = tokens[center_word_index]\n",
    "        splits.append((left_context, target, right_context))\n",
    "\n",
    "    return splits"
   ]
  },
  {
   "cell_type": "code",
   "execution_count": 111,
   "metadata": {
    "execution": {
     "iopub.execute_input": "2023-11-18T21:42:40.722453Z",
     "iopub.status.busy": "2023-11-18T21:42:40.722135Z",
     "iopub.status.idle": "2023-11-18T21:42:40.730913Z",
     "shell.execute_reply": "2023-11-18T21:42:40.730004Z",
     "shell.execute_reply.started": "2023-11-18T21:42:40.722417Z"
    }
   },
   "outputs": [],
   "source": [
    "splits = cbow_split(sample_text, window=2)"
   ]
  },
  {
   "cell_type": "code",
   "execution_count": 112,
   "metadata": {
    "execution": {
     "iopub.execute_input": "2023-11-18T21:42:40.732274Z",
     "iopub.status.busy": "2023-11-18T21:42:40.731983Z",
     "iopub.status.idle": "2023-11-18T21:42:40.743801Z",
     "shell.execute_reply": "2023-11-18T21:42:40.742843Z",
     "shell.execute_reply.started": "2023-11-18T21:42:40.732249Z"
    }
   },
   "outputs": [
    {
     "data": {
      "text/plain": [
       "'притом ситуация решиться участие течение сутки заявить'"
      ]
     },
     "execution_count": 112,
     "metadata": {},
     "output_type": "execute_result"
    }
   ],
   "source": [
    "' '.join(sample_text)"
   ]
  },
  {
   "cell_type": "code",
   "execution_count": 113,
   "metadata": {
    "execution": {
     "iopub.execute_input": "2023-11-18T21:42:40.745308Z",
     "iopub.status.busy": "2023-11-18T21:42:40.745018Z",
     "iopub.status.idle": "2023-11-18T21:42:40.754046Z",
     "shell.execute_reply": "2023-11-18T21:42:40.752833Z",
     "shell.execute_reply.started": "2023-11-18T21:42:40.745275Z"
    }
   },
   "outputs": [
    {
     "name": "stdout",
     "output_type": "stream",
     "text": [
      "Левый контекст: ['PAD', 'PAD']\n",
      "Центральное слово: притом\n",
      "Правый контекст: ['ситуация', 'решиться']\n",
      "\n",
      "Левый контекст: ['PAD', 'притом']\n",
      "Центральное слово: ситуация\n",
      "Правый контекст: ['решиться', 'участие']\n",
      "\n",
      "Левый контекст: ['притом', 'ситуация']\n",
      "Центральное слово: решиться\n",
      "Правый контекст: ['участие', 'течение']\n",
      "\n",
      "Левый контекст: ['ситуация', 'решиться']\n",
      "Центральное слово: участие\n",
      "Правый контекст: ['течение', 'сутки']\n",
      "\n",
      "Левый контекст: ['решиться', 'участие']\n",
      "Центральное слово: течение\n",
      "Правый контекст: ['сутки', 'заявить']\n",
      "\n",
      "Левый контекст: ['участие', 'течение']\n",
      "Центральное слово: сутки\n",
      "Правый контекст: ['заявить', 'PAD']\n",
      "\n",
      "Левый контекст: ['течение', 'сутки']\n",
      "Центральное слово: заявить\n",
      "Правый контекст: ['PAD', 'PAD']\n",
      "\n"
     ]
    }
   ],
   "source": [
    "for sample in splits:\n",
    "    print('Левый контекст:', sample[0])\n",
    "    print('Центральное слово:', sample[1])\n",
    "    print('Правый контекст:', sample[2], end='\\n\\n')"
   ]
  },
  {
   "cell_type": "code",
   "execution_count": 114,
   "metadata": {
    "execution": {
     "iopub.execute_input": "2023-11-18T21:42:40.759305Z",
     "iopub.status.busy": "2023-11-18T21:42:40.758958Z",
     "iopub.status.idle": "2023-11-18T21:42:40.771554Z",
     "shell.execute_reply": "2023-11-18T21:42:40.770722Z",
     "shell.execute_reply.started": "2023-11-18T21:42:40.759279Z"
    }
   },
   "outputs": [
    {
     "data": {
      "text/plain": [
       "[(['PAD', 'PAD'], 'притом', ['ситуация', 'решиться']),\n",
       " (['PAD', 'притом'], 'ситуация', ['решиться', 'участие']),\n",
       " (['притом', 'ситуация'], 'решиться', ['участие', 'течение']),\n",
       " (['ситуация', 'решиться'], 'участие', ['течение', 'сутки']),\n",
       " (['решиться', 'участие'], 'течение', ['сутки', 'заявить']),\n",
       " (['участие', 'течение'], 'сутки', ['заявить', 'PAD']),\n",
       " (['течение', 'сутки'], 'заявить', ['PAD', 'PAD'])]"
      ]
     },
     "execution_count": 114,
     "metadata": {},
     "output_type": "execute_result"
    }
   ],
   "source": [
    "splits"
   ]
  },
  {
   "cell_type": "markdown",
   "metadata": {},
   "source": [
    "# Expected\n",
    "\n",
    "```python\n",
    "[(['PAD', 'PAD'], 'вопрос', ['почему', 'например']),\n",
    " (['PAD', 'вопрос'], 'почему', ['например', 'китайский']),\n",
    " (['вопрос', 'почему'], 'например', ['китайский', 'японский']),\n",
    " (['почему', 'например'], 'китайский', ['японский', 'UNK']),\n",
    " (['например', 'китайский'], 'японский', ['UNK', 'PAD']),\n",
    " (['китайский', 'японский'], 'UNK', ['PAD', 'PAD'])]\n",
    "```"
   ]
  },
  {
   "cell_type": "code",
   "execution_count": 115,
   "metadata": {
    "execution": {
     "iopub.execute_input": "2023-11-18T21:42:40.772835Z",
     "iopub.status.busy": "2023-11-18T21:42:40.772534Z",
     "iopub.status.idle": "2023-11-18T21:42:40.784160Z",
     "shell.execute_reply": "2023-11-18T21:42:40.783268Z",
     "shell.execute_reply.started": "2023-11-18T21:42:40.772810Z"
    }
   },
   "outputs": [
    {
     "data": {
      "text/plain": [
       "[(['PAD', 'PAD', 'PAD'], 'притом', ['ситуация', 'решиться', 'участие']),\n",
       " (['PAD', 'PAD', 'притом'], 'ситуация', ['решиться', 'участие', 'течение']),\n",
       " (['PAD', 'притом', 'ситуация'], 'решиться', ['участие', 'течение', 'сутки']),\n",
       " (['притом', 'ситуация', 'решиться'],\n",
       "  'участие',\n",
       "  ['течение', 'сутки', 'заявить']),\n",
       " (['ситуация', 'решиться', 'участие'], 'течение', ['сутки', 'заявить', 'PAD']),\n",
       " (['решиться', 'участие', 'течение'], 'сутки', ['заявить', 'PAD', 'PAD']),\n",
       " (['участие', 'течение', 'сутки'], 'заявить', ['PAD', 'PAD', 'PAD'])]"
      ]
     },
     "execution_count": 115,
     "metadata": {},
     "output_type": "execute_result"
    }
   ],
   "source": [
    "cbow_split(sample_text, window=3)"
   ]
  },
  {
   "cell_type": "markdown",
   "metadata": {},
   "source": [
    "# Expected\n",
    "\n",
    "```python\n",
    "[(['PAD', 'PAD', 'PAD'], 'вопрос', ['почему', 'например', 'китайский']),\n",
    " (['PAD', 'PAD', 'вопрос'], 'почему', ['например', 'китайский', 'японский']),\n",
    " (['PAD', 'вопрос', 'почему'], 'например', ['китайский', 'японский', 'UNK']),\n",
    " (['вопрос', 'почему', 'например'], 'китайский', ['японский', 'UNK', 'PAD']),\n",
    " (['почему', 'например', 'китайский'], 'японский', ['UNK', 'PAD', 'PAD']),\n",
    " (['например', 'китайский', 'японский'], 'UNK', ['PAD', 'PAD', 'PAD'])]\n",
    "```"
   ]
  },
  {
   "cell_type": "markdown",
   "metadata": {},
   "source": [
    "# Skipgram"
   ]
  },
  {
   "cell_type": "markdown",
   "metadata": {},
   "source": [
    "# Реализуйте разделение предложения на примеры методом Skipgram"
   ]
  },
  {
   "cell_type": "code",
   "execution_count": 116,
   "metadata": {
    "execution": {
     "iopub.execute_input": "2023-11-18T21:42:40.785579Z",
     "iopub.status.busy": "2023-11-18T21:42:40.785279Z",
     "iopub.status.idle": "2023-11-18T21:42:40.794158Z",
     "shell.execute_reply": "2023-11-18T21:42:40.793322Z",
     "shell.execute_reply.started": "2023-11-18T21:42:40.785553Z"
    }
   },
   "outputs": [],
   "source": [
    "def skipgram_split(tokens, window):\n",
    "    \n",
    "    splits = []\n",
    "\n",
    "    for center_word_index in range(len(tokens)):\n",
    "        left_context = [tokens[i] for i in range(center_word_index - window, center_word_index) if i >= 0]\n",
    "        right_context = [tokens[i] for i in range(center_word_index + 1, center_word_index + window + 1) if i < len(tokens)]\n",
    "        target = tokens[center_word_index]\n",
    "        for context_word in left_context + right_context:\n",
    "            splits.append((context_word, target))\n",
    "\n",
    "    return splits"
   ]
  },
  {
   "cell_type": "code",
   "execution_count": 117,
   "metadata": {
    "execution": {
     "iopub.execute_input": "2023-11-18T21:42:40.795646Z",
     "iopub.status.busy": "2023-11-18T21:42:40.795366Z",
     "iopub.status.idle": "2023-11-18T21:42:40.806292Z",
     "shell.execute_reply": "2023-11-18T21:42:40.805410Z",
     "shell.execute_reply.started": "2023-11-18T21:42:40.795621Z"
    }
   },
   "outputs": [
    {
     "data": {
      "text/plain": [
       "'притом ситуация решиться участие течение сутки заявить'"
      ]
     },
     "execution_count": 117,
     "metadata": {},
     "output_type": "execute_result"
    }
   ],
   "source": [
    "' '.join(sample_text)"
   ]
  },
  {
   "cell_type": "code",
   "execution_count": 118,
   "metadata": {
    "execution": {
     "iopub.execute_input": "2023-11-18T21:42:40.807616Z",
     "iopub.status.busy": "2023-11-18T21:42:40.807365Z",
     "iopub.status.idle": "2023-11-18T21:42:40.814502Z",
     "shell.execute_reply": "2023-11-18T21:42:40.813736Z",
     "shell.execute_reply.started": "2023-11-18T21:42:40.807594Z"
    }
   },
   "outputs": [],
   "source": [
    "splits = skipgram_split(sample_text, window=2)"
   ]
  },
  {
   "cell_type": "code",
   "execution_count": 119,
   "metadata": {
    "execution": {
     "iopub.execute_input": "2023-11-18T21:42:40.815747Z",
     "iopub.status.busy": "2023-11-18T21:42:40.815490Z",
     "iopub.status.idle": "2023-11-18T21:42:40.827262Z",
     "shell.execute_reply": "2023-11-18T21:42:40.826250Z",
     "shell.execute_reply.started": "2023-11-18T21:42:40.815723Z"
    }
   },
   "outputs": [
    {
     "name": "stdout",
     "output_type": "stream",
     "text": [
      "Контекст: ситуация\n",
      "Центральное слово: притом\n",
      "\n",
      "Контекст: решиться\n",
      "Центральное слово: притом\n",
      "\n",
      "Контекст: притом\n",
      "Центральное слово: ситуация\n",
      "\n",
      "Контекст: решиться\n",
      "Центральное слово: ситуация\n",
      "\n",
      "Контекст: участие\n",
      "Центральное слово: ситуация\n",
      "\n",
      "Контекст: притом\n",
      "Центральное слово: решиться\n",
      "\n",
      "Контекст: ситуация\n",
      "Центральное слово: решиться\n",
      "\n",
      "Контекст: участие\n",
      "Центральное слово: решиться\n",
      "\n",
      "Контекст: течение\n",
      "Центральное слово: решиться\n",
      "\n",
      "Контекст: ситуация\n",
      "Центральное слово: участие\n",
      "\n",
      "Контекст: решиться\n",
      "Центральное слово: участие\n",
      "\n",
      "Контекст: течение\n",
      "Центральное слово: участие\n",
      "\n",
      "Контекст: сутки\n",
      "Центральное слово: участие\n",
      "\n",
      "Контекст: решиться\n",
      "Центральное слово: течение\n",
      "\n",
      "Контекст: участие\n",
      "Центральное слово: течение\n",
      "\n",
      "Контекст: сутки\n",
      "Центральное слово: течение\n",
      "\n",
      "Контекст: заявить\n",
      "Центральное слово: течение\n",
      "\n",
      "Контекст: участие\n",
      "Центральное слово: сутки\n",
      "\n",
      "Контекст: течение\n",
      "Центральное слово: сутки\n",
      "\n",
      "Контекст: заявить\n",
      "Центральное слово: сутки\n",
      "\n",
      "Контекст: течение\n",
      "Центральное слово: заявить\n",
      "\n",
      "Контекст: сутки\n",
      "Центральное слово: заявить\n",
      "\n"
     ]
    }
   ],
   "source": [
    "for sample in splits:\n",
    "    print('Контекст:', sample[0])\n",
    "    print('Центральное слово:', sample[1], end='\\n\\n')"
   ]
  },
  {
   "cell_type": "code",
   "execution_count": 120,
   "metadata": {
    "execution": {
     "iopub.execute_input": "2023-11-18T21:42:40.828944Z",
     "iopub.status.busy": "2023-11-18T21:42:40.828537Z",
     "iopub.status.idle": "2023-11-18T21:42:40.839836Z",
     "shell.execute_reply": "2023-11-18T21:42:40.838739Z",
     "shell.execute_reply.started": "2023-11-18T21:42:40.828911Z"
    }
   },
   "outputs": [
    {
     "data": {
      "text/plain": [
       "[('ситуация', 'притом'),\n",
       " ('решиться', 'притом'),\n",
       " ('притом', 'ситуация'),\n",
       " ('решиться', 'ситуация'),\n",
       " ('участие', 'ситуация'),\n",
       " ('притом', 'решиться'),\n",
       " ('ситуация', 'решиться'),\n",
       " ('участие', 'решиться'),\n",
       " ('течение', 'решиться'),\n",
       " ('ситуация', 'участие'),\n",
       " ('решиться', 'участие'),\n",
       " ('течение', 'участие'),\n",
       " ('сутки', 'участие'),\n",
       " ('решиться', 'течение'),\n",
       " ('участие', 'течение'),\n",
       " ('сутки', 'течение'),\n",
       " ('заявить', 'течение'),\n",
       " ('участие', 'сутки'),\n",
       " ('течение', 'сутки'),\n",
       " ('заявить', 'сутки'),\n",
       " ('течение', 'заявить'),\n",
       " ('сутки', 'заявить')]"
      ]
     },
     "execution_count": 120,
     "metadata": {},
     "output_type": "execute_result"
    }
   ],
   "source": [
    "skipgram_split(sample_text, window=2)"
   ]
  },
  {
   "cell_type": "markdown",
   "metadata": {},
   "source": [
    "# Expected\n",
    "\n",
    "```python\n",
    "[('почему', 'вопрос'),\n",
    " ('например', 'вопрос'),\n",
    " ('вопрос', 'почему'),\n",
    " ('например', 'почему'),\n",
    " ('китайский', 'почему'),\n",
    " ('вопрос', 'например'),\n",
    " ('почему', 'например'),\n",
    " ('китайский', 'например'),\n",
    " ('японский', 'например'),\n",
    " ('почему', 'китайский'),\n",
    " ('например', 'китайский'),\n",
    " ('японский', 'китайский'),\n",
    " ('UNK', 'китайский'),\n",
    " ('например', 'японский'),\n",
    " ('китайский', 'японский'),\n",
    " ('UNK', 'японский'),\n",
    " ('китайский', 'UNK'),\n",
    " ('японский', 'UNK')]\n",
    "```"
   ]
  },
  {
   "cell_type": "code",
   "execution_count": 121,
   "metadata": {
    "execution": {
     "iopub.execute_input": "2023-11-18T21:42:40.841623Z",
     "iopub.status.busy": "2023-11-18T21:42:40.840997Z",
     "iopub.status.idle": "2023-11-18T21:42:40.853855Z",
     "shell.execute_reply": "2023-11-18T21:42:40.852997Z",
     "shell.execute_reply.started": "2023-11-18T21:42:40.841590Z"
    }
   },
   "outputs": [
    {
     "data": {
      "text/plain": [
       "[('ситуация', 'притом'),\n",
       " ('решиться', 'притом'),\n",
       " ('участие', 'притом'),\n",
       " ('притом', 'ситуация'),\n",
       " ('решиться', 'ситуация'),\n",
       " ('участие', 'ситуация'),\n",
       " ('течение', 'ситуация'),\n",
       " ('притом', 'решиться'),\n",
       " ('ситуация', 'решиться'),\n",
       " ('участие', 'решиться'),\n",
       " ('течение', 'решиться'),\n",
       " ('сутки', 'решиться'),\n",
       " ('притом', 'участие'),\n",
       " ('ситуация', 'участие'),\n",
       " ('решиться', 'участие'),\n",
       " ('течение', 'участие'),\n",
       " ('сутки', 'участие'),\n",
       " ('заявить', 'участие'),\n",
       " ('ситуация', 'течение'),\n",
       " ('решиться', 'течение'),\n",
       " ('участие', 'течение'),\n",
       " ('сутки', 'течение'),\n",
       " ('заявить', 'течение'),\n",
       " ('решиться', 'сутки'),\n",
       " ('участие', 'сутки'),\n",
       " ('течение', 'сутки'),\n",
       " ('заявить', 'сутки'),\n",
       " ('участие', 'заявить'),\n",
       " ('течение', 'заявить'),\n",
       " ('сутки', 'заявить')]"
      ]
     },
     "execution_count": 121,
     "metadata": {},
     "output_type": "execute_result"
    }
   ],
   "source": [
    "skipgram_split(sample_text, window=3)"
   ]
  },
  {
   "cell_type": "markdown",
   "metadata": {},
   "source": [
    "# Expected\n",
    "\n",
    "```python\n",
    "[('почему', 'вопрос'),\n",
    " ('например', 'вопрос'),\n",
    " ('китайский', 'вопрос'),\n",
    " ('вопрос', 'почему'),\n",
    " ('например', 'почему'),\n",
    " ('китайский', 'почему'),\n",
    " ('японский', 'почему'),\n",
    " ('вопрос', 'например'),\n",
    " ('почему', 'например'),\n",
    " ('китайский', 'например'),\n",
    " ('японский', 'например'),\n",
    " ('UNK', 'например'),\n",
    " ('вопрос', 'китайский'),\n",
    " ('почему', 'китайский'),\n",
    " ('например', 'китайский'),\n",
    " ('японский', 'китайский'),\n",
    " ('UNK', 'китайский'),\n",
    " ('почему', 'японский'),\n",
    " ('например', 'японский'),\n",
    " ('китайский', 'японский'),\n",
    " ('UNK', 'японский'),\n",
    " ('например', 'UNK'),\n",
    " ('китайский', 'UNK'),\n",
    " ('японский', 'UNK')]\n",
    "```"
   ]
  },
  {
   "cell_type": "code",
   "execution_count": 122,
   "metadata": {
    "execution": {
     "iopub.execute_input": "2023-11-18T21:42:40.855101Z",
     "iopub.status.busy": "2023-11-18T21:42:40.854760Z",
     "iopub.status.idle": "2023-11-18T21:42:41.054861Z",
     "shell.execute_reply": "2023-11-18T21:42:41.052317Z",
     "shell.execute_reply.started": "2023-11-18T21:42:40.855077Z"
    }
   },
   "outputs": [],
   "source": [
    "word2index = {}\n",
    "\n",
    "for text in corpus:\n",
    "    for token in text:\n",
    "        if token not in word2index:\n",
    "            word2index[token] = len(word2index)"
   ]
  },
  {
   "cell_type": "code",
   "execution_count": 123,
   "metadata": {
    "execution": {
     "iopub.execute_input": "2023-11-18T21:42:41.057064Z",
     "iopub.status.busy": "2023-11-18T21:42:41.056446Z",
     "iopub.status.idle": "2023-11-18T21:42:41.064102Z",
     "shell.execute_reply": "2023-11-18T21:42:41.062977Z",
     "shell.execute_reply.started": "2023-11-18T21:42:41.057023Z"
    }
   },
   "outputs": [
    {
     "data": {
      "text/plain": [
       "13076"
      ]
     },
     "execution_count": 123,
     "metadata": {},
     "output_type": "execute_result"
    }
   ],
   "source": [
    "len(word2index)"
   ]
  },
  {
   "cell_type": "code",
   "execution_count": 124,
   "metadata": {
    "execution": {
     "iopub.execute_input": "2023-11-18T21:42:41.065745Z",
     "iopub.status.busy": "2023-11-18T21:42:41.065143Z",
     "iopub.status.idle": "2023-11-18T21:42:41.074706Z",
     "shell.execute_reply": "2023-11-18T21:42:41.073708Z",
     "shell.execute_reply.started": "2023-11-18T21:42:41.065718Z"
    }
   },
   "outputs": [
    {
     "data": {
      "text/plain": [
       "1"
      ]
     },
     "execution_count": 124,
     "metadata": {},
     "output_type": "execute_result"
    }
   ],
   "source": [
    "word2index['UNK']"
   ]
  },
  {
   "cell_type": "code",
   "execution_count": 125,
   "metadata": {
    "execution": {
     "iopub.execute_input": "2023-11-18T21:42:41.076022Z",
     "iopub.status.busy": "2023-11-18T21:42:41.075730Z",
     "iopub.status.idle": "2023-11-18T21:42:41.091341Z",
     "shell.execute_reply": "2023-11-18T21:42:41.090299Z",
     "shell.execute_reply.started": "2023-11-18T21:42:41.075998Z"
    }
   },
   "outputs": [
    {
     "data": {
      "text/plain": [
       "[1282, 8436, 1]"
      ]
     },
     "execution_count": 125,
     "metadata": {},
     "output_type": "execute_result"
    }
   ],
   "source": [
    "[word2index[tok] if tok in word2index else word2index['UNK'] for tok in 'мама мыть рама'.split()]"
   ]
  },
  {
   "cell_type": "markdown",
   "metadata": {},
   "source": [
    "# Torch Dataset\n",
    "В торче есть очень удобная читалка данных"
   ]
  },
  {
   "cell_type": "code",
   "execution_count": 126,
   "metadata": {
    "execution": {
     "iopub.execute_input": "2023-11-18T21:42:41.093026Z",
     "iopub.status.busy": "2023-11-18T21:42:41.092682Z",
     "iopub.status.idle": "2023-11-18T21:42:41.099476Z",
     "shell.execute_reply": "2023-11-18T21:42:41.098329Z",
     "shell.execute_reply.started": "2023-11-18T21:42:41.092996Z"
    }
   },
   "outputs": [],
   "source": [
    "from torch.utils.data import Dataset, DataLoader"
   ]
  },
  {
   "cell_type": "code",
   "execution_count": 127,
   "metadata": {
    "execution": {
     "iopub.execute_input": "2023-11-18T21:42:41.101335Z",
     "iopub.status.busy": "2023-11-18T21:42:41.100978Z",
     "iopub.status.idle": "2023-11-18T21:42:41.120722Z",
     "shell.execute_reply": "2023-11-18T21:42:41.119820Z",
     "shell.execute_reply.started": "2023-11-18T21:42:41.101301Z"
    }
   },
   "outputs": [],
   "source": [
    "# игрушечный датасет\n",
    "# 121535 примера, 4 фичи, 3 класса\n",
    "some_data_x = np.random.rand(121535, 4)\n",
    "some_data_y = np.random.randint(3, size=(121535,))"
   ]
  },
  {
   "cell_type": "code",
   "execution_count": 128,
   "metadata": {
    "execution": {
     "iopub.execute_input": "2023-11-18T21:42:41.122939Z",
     "iopub.status.busy": "2023-11-18T21:42:41.122277Z",
     "iopub.status.idle": "2023-11-18T21:42:41.130940Z",
     "shell.execute_reply": "2023-11-18T21:42:41.129792Z",
     "shell.execute_reply.started": "2023-11-18T21:42:41.122906Z"
    }
   },
   "outputs": [
    {
     "data": {
      "text/plain": [
       "array([[0.53407908, 0.49951246, 0.31348907, 0.6282297 ],\n",
       "       [0.4162898 , 0.89035261, 0.78069601, 0.4888866 ],\n",
       "       [0.37275177, 0.9894527 , 0.1595987 , 0.12571127],\n",
       "       [0.14820856, 0.76004323, 0.79452853, 0.64846752],\n",
       "       [0.22342329, 0.04633558, 0.01491697, 0.8942251 ],\n",
       "       [0.12209038, 0.22448284, 0.88531968, 0.67659849],\n",
       "       [0.89448213, 0.42529668, 0.35564868, 0.72758291],\n",
       "       [0.04072432, 0.51960899, 0.6313634 , 0.23063907],\n",
       "       [0.13380546, 0.77724873, 0.98108119, 0.52276547],\n",
       "       [0.59333773, 0.01122866, 0.8080133 , 0.51033184]])"
      ]
     },
     "execution_count": 128,
     "metadata": {},
     "output_type": "execute_result"
    }
   ],
   "source": [
    "# соверешенно игрушечный, просто цифры\n",
    "some_data_x[:10]"
   ]
  },
  {
   "cell_type": "code",
   "execution_count": 129,
   "metadata": {
    "execution": {
     "iopub.execute_input": "2023-11-18T21:42:41.132671Z",
     "iopub.status.busy": "2023-11-18T21:42:41.132352Z",
     "iopub.status.idle": "2023-11-18T21:42:41.141833Z",
     "shell.execute_reply": "2023-11-18T21:42:41.140732Z",
     "shell.execute_reply.started": "2023-11-18T21:42:41.132643Z"
    }
   },
   "outputs": [
    {
     "data": {
      "text/plain": [
       "array([1, 0, 1, ..., 0, 1, 1])"
      ]
     },
     "execution_count": 129,
     "metadata": {},
     "output_type": "execute_result"
    }
   ],
   "source": [
    "some_data_y"
   ]
  },
  {
   "cell_type": "code",
   "execution_count": 130,
   "metadata": {
    "execution": {
     "iopub.execute_input": "2023-11-18T21:42:41.144130Z",
     "iopub.status.busy": "2023-11-18T21:42:41.143587Z",
     "iopub.status.idle": "2023-11-18T21:42:41.151525Z",
     "shell.execute_reply": "2023-11-18T21:42:41.150456Z",
     "shell.execute_reply.started": "2023-11-18T21:42:41.144091Z"
    }
   },
   "outputs": [],
   "source": [
    "class ToyDataset(Dataset):\n",
    "    \n",
    "    def __init__(self, data_x, data_y):\n",
    "        \n",
    "        super().__init__()\n",
    "        \n",
    "        self.data_x = data_x\n",
    "        self.data_y = data_y\n",
    "        \n",
    "    def __len__(self):\n",
    "        \n",
    "        # Нужно обязательно определить эту функцию\n",
    "        # Должна возвращать размер датасета\n",
    "        \n",
    "        return len(self.data_x)\n",
    "    \n",
    "    def __getitem__(self, idx):\n",
    "        \n",
    "        # Еще нужно определить этот метод\n",
    "        # То есть как мы будем доставать наши данные по индексу\n",
    "        \n",
    "        return self.data_x[idx], self.data_y[idx]"
   ]
  },
  {
   "cell_type": "code",
   "execution_count": 131,
   "metadata": {
    "execution": {
     "iopub.execute_input": "2023-11-18T21:42:41.153259Z",
     "iopub.status.busy": "2023-11-18T21:42:41.152833Z",
     "iopub.status.idle": "2023-11-18T21:42:41.164427Z",
     "shell.execute_reply": "2023-11-18T21:42:41.163535Z",
     "shell.execute_reply.started": "2023-11-18T21:42:41.153230Z"
    }
   },
   "outputs": [],
   "source": [
    "some_dataset = ToyDataset(some_data_x, some_data_y)"
   ]
  },
  {
   "cell_type": "code",
   "execution_count": 132,
   "metadata": {
    "execution": {
     "iopub.execute_input": "2023-11-18T21:42:41.172849Z",
     "iopub.status.busy": "2023-11-18T21:42:41.172550Z",
     "iopub.status.idle": "2023-11-18T21:42:41.179216Z",
     "shell.execute_reply": "2023-11-18T21:42:41.178125Z",
     "shell.execute_reply.started": "2023-11-18T21:42:41.172824Z"
    }
   },
   "outputs": [
    {
     "data": {
      "text/plain": [
       "((array([0.12209038, 0.22448284, 0.88531968, 0.67659849]), 1),\n",
       " (array([0.85587626, 0.22209022, 0.04145321, 0.45598652]), 1))"
      ]
     },
     "execution_count": 132,
     "metadata": {},
     "output_type": "execute_result"
    }
   ],
   "source": [
    "some_dataset[5], some_dataset[467]"
   ]
  },
  {
   "cell_type": "code",
   "execution_count": 133,
   "metadata": {
    "execution": {
     "iopub.execute_input": "2023-11-18T21:42:41.180569Z",
     "iopub.status.busy": "2023-11-18T21:42:41.180277Z",
     "iopub.status.idle": "2023-11-18T21:42:41.187809Z",
     "shell.execute_reply": "2023-11-18T21:42:41.186969Z",
     "shell.execute_reply.started": "2023-11-18T21:42:41.180544Z"
    }
   },
   "outputs": [],
   "source": [
    "some_loader = DataLoader(some_dataset, batch_size=16, shuffle=True)"
   ]
  },
  {
   "cell_type": "code",
   "execution_count": 134,
   "metadata": {
    "execution": {
     "iopub.execute_input": "2023-11-18T21:42:41.191382Z",
     "iopub.status.busy": "2023-11-18T21:42:41.188907Z",
     "iopub.status.idle": "2023-11-18T21:42:41.213593Z",
     "shell.execute_reply": "2023-11-18T21:42:41.212687Z",
     "shell.execute_reply.started": "2023-11-18T21:42:41.191345Z"
    }
   },
   "outputs": [
    {
     "data": {
      "text/plain": [
       "(16,\n",
       " tensor([[0.1234, 0.3480, 0.1524, 0.8236],\n",
       "         [0.6276, 0.0232, 0.2191, 0.1114],\n",
       "         [0.2489, 0.9576, 0.5695, 0.9332],\n",
       "         [0.2870, 0.7703, 0.5082, 0.4506],\n",
       "         [0.2915, 0.2013, 0.8761, 0.4053],\n",
       "         [0.4875, 0.0678, 0.2704, 0.4438],\n",
       "         [0.1468, 0.6023, 0.1129, 0.9840],\n",
       "         [0.1836, 0.8976, 0.0902, 0.5258],\n",
       "         [0.9395, 0.8998, 0.1382, 0.5495],\n",
       "         [0.4217, 0.9134, 0.6714, 0.1218],\n",
       "         [0.9825, 0.4427, 0.8147, 0.7003],\n",
       "         [0.8755, 0.4120, 0.2298, 0.6113],\n",
       "         [0.5625, 0.1398, 0.5771, 0.5733],\n",
       "         [0.7132, 0.9577, 0.0390, 0.7034],\n",
       "         [0.9851, 0.4090, 0.5148, 0.7025],\n",
       "         [0.8445, 0.7877, 0.4956, 0.4312]], dtype=torch.float64))"
      ]
     },
     "execution_count": 134,
     "metadata": {},
     "output_type": "execute_result"
    }
   ],
   "source": [
    "for x, y in some_loader:\n",
    "    break\n",
    "    \n",
    "len(x), x"
   ]
  },
  {
   "cell_type": "code",
   "execution_count": 135,
   "metadata": {
    "execution": {
     "iopub.execute_input": "2023-11-18T21:42:41.215791Z",
     "iopub.status.busy": "2023-11-18T21:42:41.215284Z",
     "iopub.status.idle": "2023-11-18T21:42:42.345898Z",
     "shell.execute_reply": "2023-11-18T21:42:42.344862Z",
     "shell.execute_reply.started": "2023-11-18T21:42:41.215742Z"
    }
   },
   "outputs": [
    {
     "data": {
      "text/plain": [
       "15"
      ]
     },
     "execution_count": 135,
     "metadata": {},
     "output_type": "execute_result"
    }
   ],
   "source": [
    "for x, y in some_loader:\n",
    "    pass\n",
    "\n",
    "len(x)"
   ]
  },
  {
   "cell_type": "code",
   "execution_count": 136,
   "metadata": {
    "execution": {
     "iopub.execute_input": "2023-11-18T21:42:42.347398Z",
     "iopub.status.busy": "2023-11-18T21:42:42.347037Z",
     "iopub.status.idle": "2023-11-18T21:42:42.353694Z",
     "shell.execute_reply": "2023-11-18T21:42:42.352780Z",
     "shell.execute_reply.started": "2023-11-18T21:42:42.347370Z"
    }
   },
   "outputs": [
    {
     "data": {
      "text/plain": [
       "15"
      ]
     },
     "execution_count": 136,
     "metadata": {},
     "output_type": "execute_result"
    }
   ],
   "source": [
    "# почему 13?\n",
    "# потому что количество наших данных нацело не делится на 16\n",
    "# и поэтому последний батч меньше 16-ти\n",
    "len(some_dataset) % 16"
   ]
  },
  {
   "cell_type": "markdown",
   "metadata": {},
   "source": [
    "# А зачем?"
   ]
  },
  {
   "cell_type": "code",
   "execution_count": 137,
   "metadata": {
    "execution": {
     "iopub.execute_input": "2023-11-18T21:42:42.355332Z",
     "iopub.status.busy": "2023-11-18T21:42:42.355036Z",
     "iopub.status.idle": "2023-11-18T21:42:42.364987Z",
     "shell.execute_reply": "2023-11-18T21:42:42.364151Z",
     "shell.execute_reply.started": "2023-11-18T21:42:42.355296Z"
    }
   },
   "outputs": [],
   "source": [
    "class ToyDataset(Dataset):\n",
    "    \n",
    "    def __init__(self, data_x, data_y):\n",
    "        \n",
    "        super().__init__()\n",
    "        \n",
    "        self.data_x = data_x\n",
    "        self.data_y = data_y\n",
    "        \n",
    "    def __len__(self):\n",
    "        \n",
    "        # Нужно обязательно определить эту функцию\n",
    "        # Должна возвращать размер датасета\n",
    "        \n",
    "        return len(self.data_x)\n",
    "    \n",
    "    @staticmethod\n",
    "    def add_pow_features(x, n=2):\n",
    "        \n",
    "        return np.concatenate([x, x ** n]) \n",
    "    \n",
    "    @staticmethod\n",
    "    def add_log_features(x):\n",
    "        \n",
    "        return np.concatenate([x, np.log(x)]) \n",
    "    \n",
    "    def __getitem__(self, idx):\n",
    "        \n",
    "        # Еще нужно определить этот метод\n",
    "        # То есть как мы будем доставать наши данные по индексу\n",
    "        \n",
    "        x = self.data_x[idx]\n",
    "        \n",
    "        # внутри датасета мы можем делать все что угодно с нашими данными\n",
    "        # например выше определим функции, которые добавляют степенные фичи\n",
    "        x = self.add_pow_features(x, n=2)\n",
    "        x = self.add_pow_features(x, n=3)\n",
    "        # и еще возьмем логарифмические фичи\n",
    "        x = self.add_log_features(x)\n",
    "        \n",
    "        y = self.data_y[idx]\n",
    "        \n",
    "        return x, y"
   ]
  },
  {
   "cell_type": "code",
   "execution_count": 138,
   "metadata": {
    "execution": {
     "iopub.execute_input": "2023-11-18T21:42:42.366602Z",
     "iopub.status.busy": "2023-11-18T21:42:42.366334Z",
     "iopub.status.idle": "2023-11-18T21:42:42.379115Z",
     "shell.execute_reply": "2023-11-18T21:42:42.378209Z",
     "shell.execute_reply.started": "2023-11-18T21:42:42.366578Z"
    }
   },
   "outputs": [],
   "source": [
    "toy_dataset = ToyDataset(some_data_x, some_data_y)"
   ]
  },
  {
   "cell_type": "code",
   "execution_count": 139,
   "metadata": {
    "execution": {
     "iopub.execute_input": "2023-11-18T21:42:42.380354Z",
     "iopub.status.busy": "2023-11-18T21:42:42.380091Z",
     "iopub.status.idle": "2023-11-18T21:42:42.389125Z",
     "shell.execute_reply": "2023-11-18T21:42:42.388346Z",
     "shell.execute_reply.started": "2023-11-18T21:42:42.380330Z"
    }
   },
   "outputs": [],
   "source": [
    "toy_loader = DataLoader(dataset=toy_dataset, batch_size=128)"
   ]
  },
  {
   "cell_type": "code",
   "execution_count": 140,
   "metadata": {
    "execution": {
     "iopub.execute_input": "2023-11-18T21:42:42.390464Z",
     "iopub.status.busy": "2023-11-18T21:42:42.390161Z",
     "iopub.status.idle": "2023-11-18T21:42:42.401769Z",
     "shell.execute_reply": "2023-11-18T21:42:42.400997Z",
     "shell.execute_reply.started": "2023-11-18T21:42:42.390438Z"
    }
   },
   "outputs": [],
   "source": [
    "for x, y in toy_loader:\n",
    "    break"
   ]
  },
  {
   "cell_type": "code",
   "execution_count": 141,
   "metadata": {
    "execution": {
     "iopub.execute_input": "2023-11-18T21:42:42.403173Z",
     "iopub.status.busy": "2023-11-18T21:42:42.402859Z",
     "iopub.status.idle": "2023-11-18T21:42:42.410213Z",
     "shell.execute_reply": "2023-11-18T21:42:42.409400Z",
     "shell.execute_reply.started": "2023-11-18T21:42:42.403148Z"
    }
   },
   "outputs": [
    {
     "data": {
      "text/plain": [
       "torch.Size([128, 32])"
      ]
     },
     "execution_count": 141,
     "metadata": {},
     "output_type": "execute_result"
    }
   ],
   "source": [
    "x.shape"
   ]
  },
  {
   "cell_type": "code",
   "execution_count": 142,
   "metadata": {
    "execution": {
     "iopub.execute_input": "2023-11-18T21:42:42.411563Z",
     "iopub.status.busy": "2023-11-18T21:42:42.411285Z",
     "iopub.status.idle": "2023-11-18T21:42:42.422060Z",
     "shell.execute_reply": "2023-11-18T21:42:42.421154Z",
     "shell.execute_reply.started": "2023-11-18T21:42:42.411535Z"
    }
   },
   "outputs": [
    {
     "data": {
      "text/plain": [
       "tensor([[  0.5341,   0.4995,   0.3135,  ...,  -4.1647,  -6.9599,  -2.7891],\n",
       "        [  0.4163,   0.8904,   0.7807,  ...,  -0.6968,  -1.4854,  -4.2937],\n",
       "        [  0.3728,   0.9895,   0.1596,  ...,  -0.0636, -11.0106, -12.4426],\n",
       "        ...,\n",
       "        [  0.8259,   0.4208,   0.9139,  ...,  -5.1933,  -0.5400,  -6.3652],\n",
       "        [  0.3421,   0.1509,   0.9183,  ..., -11.3482,  -0.5115,  -2.1460],\n",
       "        [  0.3353,   0.2882,   0.8658,  ...,  -7.4641,  -0.8648,  -1.2075]],\n",
       "       dtype=torch.float64)"
      ]
     },
     "execution_count": 142,
     "metadata": {},
     "output_type": "execute_result"
    }
   ],
   "source": [
    "# заметим, что мы сразу получаем торчовый формат данных\n",
    "x"
   ]
  },
  {
   "cell_type": "code",
   "execution_count": 143,
   "metadata": {
    "execution": {
     "iopub.execute_input": "2023-11-18T21:42:42.423338Z",
     "iopub.status.busy": "2023-11-18T21:42:42.423042Z",
     "iopub.status.idle": "2023-11-18T21:42:42.431832Z",
     "shell.execute_reply": "2023-11-18T21:42:42.430975Z",
     "shell.execute_reply.started": "2023-11-18T21:42:42.423294Z"
    }
   },
   "outputs": [
    {
     "data": {
      "text/plain": [
       "tensor([1, 0, 1, 2, 1, 1, 1, 2, 1, 0, 2, 2, 2, 0, 0, 0, 1, 0, 1, 0, 1, 0, 2, 2,\n",
       "        0, 1, 2, 2, 1, 2, 2, 2, 1, 0, 0, 1, 0, 0, 1, 2, 2, 1, 2, 0, 1, 1, 0, 1,\n",
       "        0, 0, 2, 0, 1, 0, 1, 1, 0, 0, 2, 0, 0, 1, 2, 2, 1, 0, 0, 1, 1, 0, 1, 0,\n",
       "        1, 1, 2, 0, 0, 2, 1, 0, 1, 0, 2, 0, 1, 2, 2, 0, 1, 2, 1, 1, 0, 2, 2, 0,\n",
       "        1, 1, 1, 0, 0, 2, 0, 2, 1, 0, 2, 0, 1, 1, 2, 0, 2, 0, 1, 1, 2, 2, 1, 1,\n",
       "        1, 1, 0, 2, 0, 2, 0, 0])"
      ]
     },
     "execution_count": 143,
     "metadata": {},
     "output_type": "execute_result"
    }
   ],
   "source": [
    "y"
   ]
  },
  {
   "cell_type": "markdown",
   "metadata": {},
   "source": [
    "# Если вы ничего здесь не понимаете, то вернитесь в конец первой домашки, там все объясняется"
   ]
  },
  {
   "cell_type": "code",
   "execution_count": 144,
   "metadata": {
    "execution": {
     "iopub.execute_input": "2023-11-18T21:42:42.433141Z",
     "iopub.status.busy": "2023-11-18T21:42:42.432787Z",
     "iopub.status.idle": "2023-11-18T21:42:42.439782Z",
     "shell.execute_reply": "2023-11-18T21:42:42.439012Z",
     "shell.execute_reply.started": "2023-11-18T21:42:42.433118Z"
    }
   },
   "outputs": [],
   "source": [
    "model = torch.nn.Sequential(torch.nn.Linear(32, 16),\n",
    "                            torch.nn.ReLU(),\n",
    "                            torch.nn.Linear(16, 8),\n",
    "                            torch.nn.ReLU(),\n",
    "                            torch.nn.Linear(8, 3))\n",
    "\n",
    "criterion = torch.nn.CrossEntropyLoss()"
   ]
  },
  {
   "cell_type": "code",
   "execution_count": 145,
   "metadata": {
    "execution": {
     "iopub.execute_input": "2023-11-18T21:42:42.441034Z",
     "iopub.status.busy": "2023-11-18T21:42:42.440777Z",
     "iopub.status.idle": "2023-11-18T21:42:42.451771Z",
     "shell.execute_reply": "2023-11-18T21:42:42.450823Z",
     "shell.execute_reply.started": "2023-11-18T21:42:42.441008Z"
    }
   },
   "outputs": [
    {
     "data": {
      "text/plain": [
       "1.1297338008880615"
      ]
     },
     "execution_count": 145,
     "metadata": {},
     "output_type": "execute_result"
    }
   ],
   "source": [
    "with torch.no_grad():\n",
    "\n",
    "    prediction = model(x.float())\n",
    "\n",
    "    loss = criterion(prediction, y)\n",
    "    \n",
    "loss.item()"
   ]
  },
  {
   "cell_type": "markdown",
   "metadata": {},
   "source": [
    "# Боевые датасеты"
   ]
  },
  {
   "cell_type": "code",
   "execution_count": 146,
   "metadata": {
    "execution": {
     "iopub.execute_input": "2023-11-18T21:42:42.453197Z",
     "iopub.status.busy": "2023-11-18T21:42:42.452876Z",
     "iopub.status.idle": "2023-11-18T21:42:42.466654Z",
     "shell.execute_reply": "2023-11-18T21:42:42.465909Z",
     "shell.execute_reply.started": "2023-11-18T21:42:42.453164Z"
    }
   },
   "outputs": [],
   "source": [
    "class CBOWDataset(Dataset):\n",
    "\n",
    "    def __init__(self,\n",
    "                 corpus,\n",
    "                 word2index,\n",
    "                 window=2,\n",
    "                 unk_token='UNK',\n",
    "                 pad_token='PAD',\n",
    "                 collect_verbose=True):\n",
    "\n",
    "        self.corpus = corpus\n",
    "        self.word2index = word2index\n",
    "        self.index2word = {value: key for key, value in self.word2index.items()}\n",
    "        self.window = window\n",
    "\n",
    "        self.unk_token = unk_token\n",
    "        self.unk_index = self.word2index[self.unk_token]\n",
    "\n",
    "        self.pad_token = pad_token\n",
    "        self.pad_index = len(self.word2index)\n",
    "\n",
    "        self.collect_verbose = collect_verbose\n",
    "\n",
    "        self.data = []\n",
    "\n",
    "        self.collect_data()\n",
    "\n",
    "    def __len__(self):\n",
    "\n",
    "        return len(self.data)\n",
    "\n",
    "    def _split_function(self, tokenized_text):\n",
    "\n",
    "        splits = []\n",
    "\n",
    "        for n in range(len(tokenized_text)):\n",
    "            left_context = tokenized_text[np.maximum(n - self.window, 0):n]\n",
    "            left_context = ([self.pad_index] * (self.window - len(left_context))) + left_context\n",
    "\n",
    "            central_word = tokenized_text[n]\n",
    "\n",
    "            right_context = tokenized_text[n + 1:n + self.window + 1]\n",
    "            right_context = right_context + ([self.pad_index] * (self.window - len(right_context)))\n",
    "\n",
    "            splits.append((left_context + right_context, central_word))\n",
    "\n",
    "        return splits\n",
    "\n",
    "    def indexing(self, tokenized_text):\n",
    "\n",
    "        return [self.word2index[token] if token in self.word2index else self.unk_index for token in tokenized_text]\n",
    "\n",
    "    def collect_data(self):\n",
    "\n",
    "        corpus = tqdm(self.corpus, disable=not self.collect_verbose)\n",
    "\n",
    "        for tokenized_text in corpus:\n",
    "            indexed_text = self.indexing(tokenized_text)\n",
    "            cbow_examples = self._split_function(indexed_text)\n",
    "\n",
    "            self.data.extend(cbow_examples)\n",
    "\n",
    "    def __getitem__(self, idx):\n",
    "\n",
    "        context, central_word = self.data[idx]\n",
    "\n",
    "        context = torch.Tensor(context).long()\n",
    "\n",
    "        return context, central_word"
   ]
  },
  {
   "cell_type": "markdown",
   "metadata": {},
   "source": [
    "# Мы будем учить модель Skipgram\n",
    "Реализуйте читалку данных"
   ]
  },
  {
   "cell_type": "code",
   "execution_count": 147,
   "metadata": {
    "execution": {
     "iopub.execute_input": "2023-11-18T21:42:42.468668Z",
     "iopub.status.busy": "2023-11-18T21:42:42.467837Z",
     "iopub.status.idle": "2023-11-18T21:42:42.482618Z",
     "shell.execute_reply": "2023-11-18T21:42:42.481788Z",
     "shell.execute_reply.started": "2023-11-18T21:42:42.468634Z"
    }
   },
   "outputs": [],
   "source": [
    "class SkipgramDataset(Dataset):\n",
    "\n",
    "    def __init__(self,\n",
    "                 corpus,\n",
    "                 word2index,\n",
    "                 window=2,\n",
    "                 unk_token='UNK',\n",
    "                 collect_verbose=True):\n",
    "\n",
    "        self.corpus = corpus\n",
    "        self.word2index = word2index\n",
    "        self.index2word = {value: key for key, value in self.word2index.items()}\n",
    "        self.window = window\n",
    "\n",
    "        self.unk_token = unk_token\n",
    "        self.unk_index = self.word2index[self.unk_token]\n",
    "\n",
    "        self.collect_verbose = collect_verbose\n",
    "\n",
    "        self.data = []\n",
    "\n",
    "        self.collect_data()\n",
    "\n",
    "    def __len__(self):\n",
    "\n",
    "        return len(self.data)\n",
    "\n",
    "    def _split_function(self, tokenized_text):\n",
    "        \n",
    "        splits = []\n",
    "\n",
    "        for center_word_index in range(len(tokenized_text)):\n",
    "            left_context = [tokenized_text[i] for i in range(center_word_index - self.window, center_word_index) if i >= 0]\n",
    "            right_context = [tokenized_text[i] for i in range(center_word_index + 1, center_word_index + self.window + 1) if i < len(tokenized_text)]\n",
    "            target = tokenized_text[center_word_index]\n",
    "            for context_word in left_context + right_context:\n",
    "                splits.append((context_word, target))\n",
    "\n",
    "        return splits\n",
    "\n",
    "    def indexing(self, tokenized_text):\n",
    "\n",
    "        return [self.word2index[token] if token in self.word2index else self.unk_index for token in tokenized_text]\n",
    "\n",
    "    def collect_data(self):\n",
    "\n",
    "        corpus = tqdm(self.corpus, disable=not self.collect_verbose)\n",
    "\n",
    "        for tokenized_text in corpus:\n",
    "            indexed_text = self.indexing(tokenized_text)\n",
    "            skipgram_examples = self._split_function(indexed_text)\n",
    "\n",
    "            self.data.extend(skipgram_examples)\n",
    "\n",
    "    def __getitem__(self, idx):\n",
    "        \n",
    "        context, central_word = self.data[idx]\n",
    "\n",
    "        return context, central_word"
   ]
  },
  {
   "cell_type": "code",
   "execution_count": 148,
   "metadata": {
    "execution": {
     "iopub.execute_input": "2023-11-18T21:42:42.483849Z",
     "iopub.status.busy": "2023-11-18T21:42:42.483530Z",
     "iopub.status.idle": "2023-11-18T21:42:42.495441Z",
     "shell.execute_reply": "2023-11-18T21:42:42.494596Z",
     "shell.execute_reply.started": "2023-11-18T21:42:42.483824Z"
    }
   },
   "outputs": [],
   "source": [
    "# можете положить SkipgramDataset в отдельный файлик, например word2vec_utils и относительным импортом достать его \n",
    "#from .word2vec_utils import SkipgramDataset"
   ]
  },
  {
   "cell_type": "code",
   "execution_count": 149,
   "metadata": {
    "execution": {
     "iopub.execute_input": "2023-11-18T21:42:42.497202Z",
     "iopub.status.busy": "2023-11-18T21:42:42.496845Z",
     "iopub.status.idle": "2023-11-18T21:42:45.833434Z",
     "shell.execute_reply": "2023-11-18T21:42:45.832523Z",
     "shell.execute_reply.started": "2023-11-18T21:42:42.497161Z"
    },
    "scrolled": true
   },
   "outputs": [
    {
     "name": "stderr",
     "output_type": "stream",
     "text": [
      "100%|██████████| 100000/100000 [00:03<00:00, 30128.11it/s]\n"
     ]
    }
   ],
   "source": [
    "dataset = SkipgramDataset(corpus, word2index)"
   ]
  },
  {
   "cell_type": "code",
   "execution_count": 150,
   "metadata": {
    "execution": {
     "iopub.execute_input": "2023-11-18T21:42:45.835054Z",
     "iopub.status.busy": "2023-11-18T21:42:45.834716Z",
     "iopub.status.idle": "2023-11-18T21:42:45.841333Z",
     "shell.execute_reply": "2023-11-18T21:42:45.840310Z",
     "shell.execute_reply.started": "2023-11-18T21:42:45.835027Z"
    }
   },
   "outputs": [
    {
     "data": {
      "text/plain": [
       "(0, 1)"
      ]
     },
     "execution_count": 150,
     "metadata": {},
     "output_type": "execute_result"
    }
   ],
   "source": [
    "dataset[2]"
   ]
  },
  {
   "cell_type": "code",
   "execution_count": 151,
   "metadata": {
    "execution": {
     "iopub.execute_input": "2023-11-18T21:42:45.842997Z",
     "iopub.status.busy": "2023-11-18T21:42:45.842651Z",
     "iopub.status.idle": "2023-11-18T21:42:45.850320Z",
     "shell.execute_reply": "2023-11-18T21:42:45.849414Z",
     "shell.execute_reply.started": "2023-11-18T21:42:45.842971Z"
    }
   },
   "outputs": [],
   "source": [
    "BATCH_SIZE = 1024"
   ]
  },
  {
   "cell_type": "code",
   "execution_count": 152,
   "metadata": {
    "execution": {
     "iopub.execute_input": "2023-11-18T21:42:45.851843Z",
     "iopub.status.busy": "2023-11-18T21:42:45.851543Z",
     "iopub.status.idle": "2023-11-18T21:42:45.955152Z",
     "shell.execute_reply": "2023-11-18T21:42:45.954271Z",
     "shell.execute_reply.started": "2023-11-18T21:42:45.851798Z"
    }
   },
   "outputs": [],
   "source": [
    "dataset_loader = DataLoader(dataset, shuffle=True, batch_size=BATCH_SIZE)"
   ]
  },
  {
   "cell_type": "code",
   "execution_count": 153,
   "metadata": {
    "execution": {
     "iopub.execute_input": "2023-11-18T21:42:45.956601Z",
     "iopub.status.busy": "2023-11-18T21:42:45.956314Z",
     "iopub.status.idle": "2023-11-18T21:42:46.223460Z",
     "shell.execute_reply": "2023-11-18T21:42:46.222659Z",
     "shell.execute_reply.started": "2023-11-18T21:42:45.956576Z"
    }
   },
   "outputs": [],
   "source": [
    "for x, y in dataset_loader:\n",
    "    break"
   ]
  },
  {
   "cell_type": "code",
   "execution_count": 154,
   "metadata": {
    "execution": {
     "iopub.execute_input": "2023-11-18T21:42:46.224931Z",
     "iopub.status.busy": "2023-11-18T21:42:46.224609Z",
     "iopub.status.idle": "2023-11-18T21:42:46.231642Z",
     "shell.execute_reply": "2023-11-18T21:42:46.230597Z",
     "shell.execute_reply.started": "2023-11-18T21:42:46.224905Z"
    }
   },
   "outputs": [
    {
     "data": {
      "text/plain": [
       "tensor([  15, 9650, 2222,  382,   55])"
      ]
     },
     "execution_count": 154,
     "metadata": {},
     "output_type": "execute_result"
    }
   ],
   "source": [
    "x[:5]"
   ]
  },
  {
   "cell_type": "code",
   "execution_count": 155,
   "metadata": {
    "execution": {
     "iopub.execute_input": "2023-11-18T21:42:46.232952Z",
     "iopub.status.busy": "2023-11-18T21:42:46.232665Z",
     "iopub.status.idle": "2023-11-18T21:42:46.242099Z",
     "shell.execute_reply": "2023-11-18T21:42:46.241191Z",
     "shell.execute_reply.started": "2023-11-18T21:42:46.232928Z"
    }
   },
   "outputs": [
    {
     "data": {
      "text/plain": [
       "tensor([  16, 2042, 1555,  236,  179])"
      ]
     },
     "execution_count": 155,
     "metadata": {},
     "output_type": "execute_result"
    }
   ],
   "source": [
    "y[:5]"
   ]
  },
  {
   "cell_type": "code",
   "execution_count": 156,
   "metadata": {
    "execution": {
     "iopub.execute_input": "2023-11-18T21:42:46.243544Z",
     "iopub.status.busy": "2023-11-18T21:42:46.243269Z",
     "iopub.status.idle": "2023-11-18T21:42:46.253254Z",
     "shell.execute_reply": "2023-11-18T21:42:46.252461Z",
     "shell.execute_reply.started": "2023-11-18T21:42:46.243521Z"
    }
   },
   "outputs": [
    {
     "data": {
      "text/plain": [
       "(torch.Size([1024]), torch.Size([1024]))"
      ]
     },
     "execution_count": 156,
     "metadata": {},
     "output_type": "execute_result"
    }
   ],
   "source": [
    "x.shape, y.shape"
   ]
  },
  {
   "cell_type": "code",
   "execution_count": 157,
   "metadata": {
    "execution": {
     "iopub.execute_input": "2023-11-18T21:42:46.254712Z",
     "iopub.status.busy": "2023-11-18T21:42:46.254384Z",
     "iopub.status.idle": "2023-11-18T21:42:46.263417Z",
     "shell.execute_reply": "2023-11-18T21:42:46.262646Z",
     "shell.execute_reply.started": "2023-11-18T21:42:46.254679Z"
    }
   },
   "outputs": [],
   "source": [
    "class CBOW(torch.nn.Module):\n",
    "    \n",
    "    def __init__(self, vocab_size, embedding_dim, pad_index):\n",
    "        \n",
    "        super().__init__()\n",
    "        \n",
    "        if pad_index > 0:\n",
    "            vocab_size += 1\n",
    "        \n",
    "        self.in_embedding = torch.nn.Embedding(num_embeddings=vocab_size, \n",
    "                                               embedding_dim=embedding_dim,\n",
    "                                               padding_idx=pad_index)\n",
    "        \n",
    "        self.out_embedding = torch.nn.Linear(in_features=embedding_dim,\n",
    "                                             out_features=vocab_size, bias=False)\n",
    "        \n",
    "    def forward(self, x):\n",
    "        \n",
    "        x = self.in_embedding(x).sum(dim=-2)\n",
    "        x = self.out_embedding(x)\n",
    "        \n",
    "        return x"
   ]
  },
  {
   "cell_type": "markdown",
   "metadata": {},
   "source": [
    "# Мы будем учить модель Skipgram\n",
    "Реализуйте ее"
   ]
  },
  {
   "cell_type": "code",
   "execution_count": 158,
   "metadata": {
    "execution": {
     "iopub.execute_input": "2023-11-18T21:42:46.264631Z",
     "iopub.status.busy": "2023-11-18T21:42:46.264350Z",
     "iopub.status.idle": "2023-11-18T21:42:46.274211Z",
     "shell.execute_reply": "2023-11-18T21:42:46.273438Z",
     "shell.execute_reply.started": "2023-11-18T21:42:46.264607Z"
    }
   },
   "outputs": [],
   "source": [
    "class SkipGram(torch.nn.Module):\n",
    "    \n",
    "    def __init__(self, vocab_size, embedding_dim):\n",
    "        \n",
    "        super().__init__()\n",
    "        \n",
    "        self.in_embedding = torch.nn.Embedding(num_embeddings=vocab_size, \n",
    "                                               embedding_dim=embedding_dim)\n",
    "        self.out_embedding = torch.nn.Linear(in_features=embedding_dim,\n",
    "                                             out_features=vocab_size, bias=False)\n",
    "    \n",
    "    def forward(self, x):\n",
    "        x = self.in_embedding(x)\n",
    "        x = self.out_embedding(x)\n",
    "        return x"
   ]
  },
  {
   "cell_type": "code",
   "execution_count": 159,
   "metadata": {
    "execution": {
     "iopub.execute_input": "2023-11-18T21:42:46.276962Z",
     "iopub.status.busy": "2023-11-18T21:42:46.275098Z",
     "iopub.status.idle": "2023-11-18T21:42:46.283921Z",
     "shell.execute_reply": "2023-11-18T21:42:46.283009Z",
     "shell.execute_reply.started": "2023-11-18T21:42:46.276937Z"
    }
   },
   "outputs": [],
   "source": [
    "#from word2vec_utils import SkipGram"
   ]
  },
  {
   "cell_type": "code",
   "execution_count": 160,
   "metadata": {
    "execution": {
     "iopub.execute_input": "2023-11-18T21:42:46.285309Z",
     "iopub.status.busy": "2023-11-18T21:42:46.285042Z",
     "iopub.status.idle": "2023-11-18T21:42:46.293783Z",
     "shell.execute_reply": "2023-11-18T21:42:46.292957Z",
     "shell.execute_reply.started": "2023-11-18T21:42:46.285286Z"
    }
   },
   "outputs": [],
   "source": [
    "# размерность эмбеддинга\n",
    "# маленькая, чтобы мы могли недолго поучить ворд2век и увидеть результаты\n",
    "EMBEDDING_DIM = 20"
   ]
  },
  {
   "cell_type": "code",
   "execution_count": 161,
   "metadata": {
    "execution": {
     "iopub.execute_input": "2023-11-18T21:42:46.295567Z",
     "iopub.status.busy": "2023-11-18T21:42:46.294933Z",
     "iopub.status.idle": "2023-11-18T21:42:46.306008Z",
     "shell.execute_reply": "2023-11-18T21:42:46.305277Z",
     "shell.execute_reply.started": "2023-11-18T21:42:46.295533Z"
    }
   },
   "outputs": [],
   "source": [
    "DEVICE = torch.device(\"cuda:0\")"
   ]
  },
  {
   "cell_type": "code",
   "execution_count": 162,
   "metadata": {
    "execution": {
     "iopub.execute_input": "2023-11-18T21:42:46.307862Z",
     "iopub.status.busy": "2023-11-18T21:42:46.307109Z",
     "iopub.status.idle": "2023-11-18T21:42:46.320426Z",
     "shell.execute_reply": "2023-11-18T21:42:46.319610Z",
     "shell.execute_reply.started": "2023-11-18T21:42:46.307828Z"
    }
   },
   "outputs": [],
   "source": [
    "model = SkipGram(vocab_size=len(word2index), embedding_dim=EMBEDDING_DIM).to(DEVICE)"
   ]
  },
  {
   "cell_type": "code",
   "execution_count": 163,
   "metadata": {
    "execution": {
     "iopub.execute_input": "2023-11-18T21:42:46.321639Z",
     "iopub.status.busy": "2023-11-18T21:42:46.321377Z",
     "iopub.status.idle": "2023-11-18T21:42:46.328512Z",
     "shell.execute_reply": "2023-11-18T21:42:46.327631Z",
     "shell.execute_reply.started": "2023-11-18T21:42:46.321609Z"
    }
   },
   "outputs": [
    {
     "data": {
      "text/plain": [
       "torch.Size([1024, 13076])"
      ]
     },
     "execution_count": 163,
     "metadata": {},
     "output_type": "execute_result"
    }
   ],
   "source": [
    "with torch.no_grad():\n",
    "    pred = model(x.to(DEVICE))\n",
    "\n",
    "pred.shape"
   ]
  },
  {
   "cell_type": "code",
   "execution_count": 164,
   "metadata": {
    "execution": {
     "iopub.execute_input": "2023-11-18T21:42:46.329965Z",
     "iopub.status.busy": "2023-11-18T21:42:46.329577Z",
     "iopub.status.idle": "2023-11-18T21:42:46.336237Z",
     "shell.execute_reply": "2023-11-18T21:42:46.335497Z",
     "shell.execute_reply.started": "2023-11-18T21:42:46.329932Z"
    }
   },
   "outputs": [],
   "source": [
    "optimizer = torch.optim.Adam(params=model.parameters(), lr=0.0001)\n",
    "\n",
    "# aka loss function\n",
    "criterion = torch.nn.CrossEntropyLoss()"
   ]
  },
  {
   "cell_type": "markdown",
   "metadata": {},
   "source": [
    "# Допишите обучалку"
   ]
  },
  {
   "cell_type": "code",
   "execution_count": 165,
   "metadata": {
    "execution": {
     "iopub.execute_input": "2023-11-18T21:42:46.337774Z",
     "iopub.status.busy": "2023-11-18T21:42:46.337356Z",
     "iopub.status.idle": "2023-11-18T21:42:46.346847Z",
     "shell.execute_reply": "2023-11-18T21:42:46.345985Z",
     "shell.execute_reply.started": "2023-11-18T21:42:46.337702Z"
    }
   },
   "outputs": [],
   "source": [
    "def train(model, optimizer, criterion, dataset_loader, device, epochs=3):\n",
    "\n",
    "    losses = []\n",
    "\n",
    "    for n_epoch in range(epochs):\n",
    "\n",
    "        try:\n",
    "\n",
    "            progress_bar = tqdm(total=len(dataset_loader.dataset), desc='Epoch {}'.format(n_epoch + 1))\n",
    "\n",
    "            for x, y in dataset_loader:\n",
    "                x, y = x.to(device), y.to(device)\n",
    "                optimizer.zero_grad()\n",
    "\n",
    "                pred = model(x)\n",
    "\n",
    "                loss = criterion(pred, y)\n",
    "\n",
    "                loss.backward()\n",
    "\n",
    "                optimizer.step()\n",
    "\n",
    "                losses.append(loss.item())\n",
    "\n",
    "                progress_bar.set_postfix(loss=np.mean(losses[-100:]))\n",
    "\n",
    "                progress_bar.update(x.shape[0])\n",
    "\n",
    "            progress_bar.close()\n",
    "\n",
    "        except KeyboardInterrupt:\n",
    "\n",
    "            progress_bar.close()\n",
    "            break\n",
    "    return losses"
   ]
  },
  {
   "cell_type": "code",
   "execution_count": 166,
   "metadata": {
    "execution": {
     "iopub.execute_input": "2023-11-18T21:42:46.348244Z",
     "iopub.status.busy": "2023-11-18T21:42:46.347920Z",
     "iopub.status.idle": "2023-11-18T21:44:28.522115Z",
     "shell.execute_reply": "2023-11-18T21:44:28.521136Z",
     "shell.execute_reply.started": "2023-11-18T21:42:46.348212Z"
    }
   },
   "outputs": [
    {
     "name": "stderr",
     "output_type": "stream",
     "text": [
      "Epoch 1: 100%|██████████| 2983124/2983124 [00:20<00:00, 144445.93it/s, loss=9.35]\n",
      "Epoch 2: 100%|██████████| 2983124/2983124 [00:20<00:00, 147131.21it/s, loss=8.78]\n",
      "Epoch 3: 100%|██████████| 2983124/2983124 [00:20<00:00, 144455.39it/s, loss=8.18]\n",
      "Epoch 4: 100%|██████████| 2983124/2983124 [00:20<00:00, 146717.87it/s, loss=7.78]\n",
      "Epoch 5: 100%|██████████| 2983124/2983124 [00:20<00:00, 147389.43it/s, loss=7.54]\n"
     ]
    }
   ],
   "source": [
    "losses = train(model, optimizer, criterion, dataset_loader, device=DEVICE, epochs=5)"
   ]
  },
  {
   "cell_type": "code",
   "execution_count": 167,
   "metadata": {
    "execution": {
     "iopub.execute_input": "2023-11-18T21:44:28.523948Z",
     "iopub.status.busy": "2023-11-18T21:44:28.523562Z",
     "iopub.status.idle": "2023-11-18T21:44:29.005013Z",
     "shell.execute_reply": "2023-11-18T21:44:29.004208Z",
     "shell.execute_reply.started": "2023-11-18T21:44:28.523912Z"
    }
   },
   "outputs": [
    {
     "data": {
      "text/plain": [
       "[<matplotlib.lines.Line2D at 0x7ea543d2b550>]"
      ]
     },
     "execution_count": 167,
     "metadata": {},
     "output_type": "execute_result"
    },
    {
     "data": {
      "image/png": "[encoded data removed]",
      "text/plain": [
       "<Figure size 1500x1500 with 1 Axes>"
      ]
     },
     "metadata": {},
     "output_type": "display_data"
    }
   ],
   "source": [
    "plt.title('SkipGram Training Process')\n",
    "plt.xlabel('Itearations')\n",
    "plt.ylabel('Loss')\n",
    "plt.grid()\n",
    "plt.plot(losses)"
   ]
  },
  {
   "cell_type": "code",
   "execution_count": 168,
   "metadata": {
    "execution": {
     "iopub.execute_input": "2023-11-18T21:44:29.006489Z",
     "iopub.status.busy": "2023-11-18T21:44:29.006215Z",
     "iopub.status.idle": "2023-11-18T21:44:29.012728Z",
     "shell.execute_reply": "2023-11-18T21:44:29.011886Z",
     "shell.execute_reply.started": "2023-11-18T21:44:29.006466Z"
    }
   },
   "outputs": [
    {
     "data": {
      "text/plain": [
       "7.565590081214904"
      ]
     },
     "execution_count": 168,
     "metadata": {},
     "output_type": "execute_result"
    }
   ],
   "source": [
    "np.mean(losses[-1000:])"
   ]
  },
  {
   "cell_type": "code",
   "execution_count": 169,
   "metadata": {
    "execution": {
     "iopub.execute_input": "2023-11-18T21:44:29.014052Z",
     "iopub.status.busy": "2023-11-18T21:44:29.013732Z",
     "iopub.status.idle": "2023-11-18T21:44:29.022509Z",
     "shell.execute_reply": "2023-11-18T21:44:29.021771Z",
     "shell.execute_reply.started": "2023-11-18T21:44:29.014028Z"
    }
   },
   "outputs": [],
   "source": [
    "# # проверка, что хоть что-то выучилось\n",
    "# assert np.mean(losses[-1000:]) < 7.5"
   ]
  },
  {
   "cell_type": "code",
   "execution_count": 170,
   "metadata": {
    "execution": {
     "iopub.execute_input": "2023-11-18T21:44:29.023771Z",
     "iopub.status.busy": "2023-11-18T21:44:29.023490Z",
     "iopub.status.idle": "2023-11-18T21:44:29.034478Z",
     "shell.execute_reply": "2023-11-18T21:44:29.033634Z",
     "shell.execute_reply.started": "2023-11-18T21:44:29.023730Z"
    }
   },
   "outputs": [],
   "source": [
    "embedding_matrix = model.cpu().in_embedding.weight.detach()"
   ]
  },
  {
   "cell_type": "code",
   "execution_count": 171,
   "metadata": {
    "execution": {
     "iopub.execute_input": "2023-11-18T21:44:29.036020Z",
     "iopub.status.busy": "2023-11-18T21:44:29.035648Z",
     "iopub.status.idle": "2023-11-18T21:44:29.043120Z",
     "shell.execute_reply": "2023-11-18T21:44:29.042374Z",
     "shell.execute_reply.started": "2023-11-18T21:44:29.035995Z"
    }
   },
   "outputs": [],
   "source": [
    "def cos_sim(embedding_matrix, token2id, word1, word2):\n",
    "    \n",
    "    i1 = token2id[word1]\n",
    "    i2 = token2id[word2]\n",
    "    \n",
    "    v1, v2 = embedding_matrix[i1], embedding_matrix[i2]\n",
    "    \n",
    "    v1_n = v1.div(v1.norm(keepdim=True))\n",
    "    v2_n = v2.div(v2.norm(keepdim=True))\n",
    "    \n",
    "    similarity = torch.dot(v1_n, v2_n).item()\n",
    "    \n",
    "    return similarity"
   ]
  },
  {
   "cell_type": "markdown",
   "metadata": {},
   "source": [
    "# Косинусная близость\n",
    "От 0 до 1, где 0 - вектора абсолютно разные, где 1 - идентичные."
   ]
  },
  {
   "cell_type": "code",
   "execution_count": 172,
   "metadata": {
    "execution": {
     "iopub.execute_input": "2023-11-18T21:44:29.044423Z",
     "iopub.status.busy": "2023-11-18T21:44:29.044185Z",
     "iopub.status.idle": "2023-11-18T21:44:29.060413Z",
     "shell.execute_reply": "2023-11-18T21:44:29.059400Z",
     "shell.execute_reply.started": "2023-11-18T21:44:29.044402Z"
    }
   },
   "outputs": [
    {
     "data": {
      "text/plain": [
       "0.4515572488307953"
      ]
     },
     "execution_count": 172,
     "metadata": {},
     "output_type": "execute_result"
    }
   ],
   "source": [
    "cos_sim(embedding_matrix, word2index, 'день', 'месяц')"
   ]
  },
  {
   "cell_type": "code",
   "execution_count": 173,
   "metadata": {
    "execution": {
     "iopub.execute_input": "2023-11-18T21:44:29.062186Z",
     "iopub.status.busy": "2023-11-18T21:44:29.061797Z",
     "iopub.status.idle": "2023-11-18T21:44:29.070512Z",
     "shell.execute_reply": "2023-11-18T21:44:29.069586Z",
     "shell.execute_reply.started": "2023-11-18T21:44:29.062153Z"
    }
   },
   "outputs": [
    {
     "data": {
      "text/plain": [
       "0.5457082390785217"
      ]
     },
     "execution_count": 173,
     "metadata": {},
     "output_type": "execute_result"
    }
   ],
   "source": [
    "cos_sim(embedding_matrix, word2index, 'минута', 'месяц')"
   ]
  },
  {
   "cell_type": "code",
   "execution_count": 174,
   "metadata": {
    "execution": {
     "iopub.execute_input": "2023-11-18T21:44:29.072575Z",
     "iopub.status.busy": "2023-11-18T21:44:29.071656Z",
     "iopub.status.idle": "2023-11-18T21:44:29.081859Z",
     "shell.execute_reply": "2023-11-18T21:44:29.080820Z",
     "shell.execute_reply.started": "2023-11-18T21:44:29.072547Z"
    }
   },
   "outputs": [
    {
     "data": {
      "text/plain": [
       "0.38953906297683716"
      ]
     },
     "execution_count": 174,
     "metadata": {},
     "output_type": "execute_result"
    }
   ],
   "source": [
    "cos_sim(embedding_matrix, word2index, 'сотрудник', 'сотрудница')"
   ]
  },
  {
   "cell_type": "code",
   "execution_count": 175,
   "metadata": {
    "execution": {
     "iopub.execute_input": "2023-11-18T21:44:29.084030Z",
     "iopub.status.busy": "2023-11-18T21:44:29.083268Z",
     "iopub.status.idle": "2023-11-18T21:44:29.091680Z",
     "shell.execute_reply": "2023-11-18T21:44:29.090641Z",
     "shell.execute_reply.started": "2023-11-18T21:44:29.083995Z"
    }
   },
   "outputs": [
    {
     "data": {
      "text/plain": [
       "0.3488527536392212"
      ]
     },
     "execution_count": 175,
     "metadata": {},
     "output_type": "execute_result"
    }
   ],
   "source": [
    "cos_sim(embedding_matrix, word2index, 'вклад', 'перевод')"
   ]
  },
  {
   "cell_type": "markdown",
   "metadata": {},
   "source": [
    "#### Нормально!"
   ]
  },
  {
   "cell_type": "code",
   "execution_count": 176,
   "metadata": {
    "execution": {
     "iopub.execute_input": "2023-11-18T21:44:29.094204Z",
     "iopub.status.busy": "2023-11-18T21:44:29.093513Z",
     "iopub.status.idle": "2023-11-18T21:44:29.102305Z",
     "shell.execute_reply": "2023-11-18T21:44:29.101572Z",
     "shell.execute_reply.started": "2023-11-18T21:44:29.094167Z"
    }
   },
   "outputs": [
    {
     "data": {
      "text/plain": [
       "'Косинусная близость слова \"день\" к случайному выбраному слову \"заява\" равна -0.188'"
      ]
     },
     "execution_count": 176,
     "metadata": {},
     "output_type": "execute_result"
    }
   ],
   "source": [
    "random_word = random.choice(list(word2index.keys()))\n",
    "sim = cos_sim(embedding_matrix, word2index, 'день', random_word)\n",
    "'Косинусная близость слова \"день\" к случайному выбраному слову \"{}\" равна {:.3f}'.format(random_word, sim)"
   ]
  },
  {
   "cell_type": "code",
   "execution_count": 177,
   "metadata": {
    "execution": {
     "iopub.execute_input": "2023-11-18T21:44:29.103664Z",
     "iopub.status.busy": "2023-11-18T21:44:29.103394Z",
     "iopub.status.idle": "2023-11-18T21:44:29.429747Z",
     "shell.execute_reply": "2023-11-18T21:44:29.428585Z",
     "shell.execute_reply.started": "2023-11-18T21:44:29.103640Z"
    }
   },
   "outputs": [],
   "source": [
    "freq = {}\n",
    "\n",
    "for text in corpus:\n",
    "    for token in text:\n",
    "        if token in freq:\n",
    "            freq[token] += 1\n",
    "        else:\n",
    "            freq[token] = 1"
   ]
  },
  {
   "cell_type": "code",
   "execution_count": 178,
   "metadata": {
    "execution": {
     "iopub.execute_input": "2023-11-18T21:44:29.431502Z",
     "iopub.status.busy": "2023-11-18T21:44:29.431112Z",
     "iopub.status.idle": "2023-11-18T21:44:29.455580Z",
     "shell.execute_reply": "2023-11-18T21:44:29.454506Z",
     "shell.execute_reply.started": "2023-11-18T21:44:29.431466Z"
    }
   },
   "outputs": [],
   "source": [
    "sorted_freq = [(k, freq[k]) for k in sorted(freq, key=freq.get, reverse=True)]\n",
    "top_sorted_freq = sorted_freq[0:200]"
   ]
  },
  {
   "cell_type": "code",
   "execution_count": 179,
   "metadata": {
    "execution": {
     "iopub.execute_input": "2023-11-18T21:44:29.458402Z",
     "iopub.status.busy": "2023-11-18T21:44:29.457407Z",
     "iopub.status.idle": "2023-11-18T21:45:38.294040Z",
     "shell.execute_reply": "2023-11-18T21:45:38.293265Z",
     "shell.execute_reply.started": "2023-11-18T21:44:29.458361Z"
    }
   },
   "outputs": [
    {
     "name": "stdout",
     "output_type": "stream",
     "text": [
      "[t-SNE] Computing 91 nearest neighbors...\n",
      "[t-SNE] Indexed 13076 samples in 0.001s...\n",
      "[t-SNE] Computed neighbors for 13076 samples in 0.658s...\n",
      "[t-SNE] Computed conditional probabilities for sample 1000 / 13076\n",
      "[t-SNE] Computed conditional probabilities for sample 2000 / 13076\n",
      "[t-SNE] Computed conditional probabilities for sample 3000 / 13076\n",
      "[t-SNE] Computed conditional probabilities for sample 4000 / 13076\n",
      "[t-SNE] Computed conditional probabilities for sample 5000 / 13076\n",
      "[t-SNE] Computed conditional probabilities for sample 6000 / 13076\n",
      "[t-SNE] Computed conditional probabilities for sample 7000 / 13076\n",
      "[t-SNE] Computed conditional probabilities for sample 8000 / 13076\n",
      "[t-SNE] Computed conditional probabilities for sample 9000 / 13076\n",
      "[t-SNE] Computed conditional probabilities for sample 10000 / 13076\n",
      "[t-SNE] Computed conditional probabilities for sample 11000 / 13076\n",
      "[t-SNE] Computed conditional probabilities for sample 12000 / 13076\n",
      "[t-SNE] Computed conditional probabilities for sample 13000 / 13076\n",
      "[t-SNE] Computed conditional probabilities for sample 13076 / 13076\n",
      "[t-SNE] Mean sigma: 1.211033\n",
      "[t-SNE] Computed conditional probabilities in 0.342s\n",
      "[t-SNE] Iteration 50: error = 98.8961334, gradient norm = 0.0000000 (50 iterations in 4.734s)\n",
      "[t-SNE] Iteration 50: gradient norm 0.000000. Finished.\n",
      "[t-SNE] KL divergence after 50 iterations with early exaggeration: 98.896133\n",
      "[t-SNE] Iteration 100: error = 5.7273879, gradient norm = 0.0328685 (50 iterations in 3.962s)\n",
      "[t-SNE] Iteration 150: error = 4.9218216, gradient norm = 0.0044290 (50 iterations in 3.399s)\n",
      "[t-SNE] Iteration 200: error = 4.8214836, gradient norm = 0.0049642 (50 iterations in 3.216s)\n",
      "[t-SNE] Iteration 250: error = 4.7434168, gradient norm = 0.0051427 (50 iterations in 3.154s)\n",
      "[t-SNE] Iteration 300: error = 4.6829376, gradient norm = 0.0051468 (50 iterations in 3.208s)\n",
      "[t-SNE] Iteration 350: error = 4.6347475, gradient norm = 0.0051859 (50 iterations in 3.148s)\n",
      "[t-SNE] Iteration 400: error = 4.5953283, gradient norm = 0.0051069 (50 iterations in 3.192s)\n",
      "[t-SNE] Iteration 450: error = 4.5626879, gradient norm = 0.0049288 (50 iterations in 3.241s)\n",
      "[t-SNE] Iteration 500: error = 4.5360737, gradient norm = 0.0047190 (50 iterations in 3.164s)\n",
      "[t-SNE] Iteration 550: error = 4.5140910, gradient norm = 0.0044871 (50 iterations in 4.061s)\n",
      "[t-SNE] Iteration 600: error = 4.4957495, gradient norm = 0.0042265 (50 iterations in 3.328s)\n",
      "[t-SNE] Iteration 650: error = 4.4803801, gradient norm = 0.0038925 (50 iterations in 3.139s)\n",
      "[t-SNE] Iteration 700: error = 4.4674625, gradient norm = 0.0037117 (50 iterations in 3.078s)\n",
      "[t-SNE] Iteration 750: error = 4.4562593, gradient norm = 0.0035320 (50 iterations in 3.182s)\n",
      "[t-SNE] Iteration 800: error = 4.4464307, gradient norm = 0.0033502 (50 iterations in 3.101s)\n",
      "[t-SNE] Iteration 850: error = 4.4378934, gradient norm = 0.0031558 (50 iterations in 3.127s)\n",
      "[t-SNE] Iteration 900: error = 4.4304347, gradient norm = 0.0029203 (50 iterations in 3.174s)\n",
      "[t-SNE] Iteration 950: error = 4.4241161, gradient norm = 0.0026989 (50 iterations in 3.167s)\n",
      "[t-SNE] Iteration 1000: error = 4.4185295, gradient norm = 0.0025640 (50 iterations in 4.019s)\n",
      "[t-SNE] KL divergence after 1000 iterations: 4.418530\n"
     ]
    }
   ],
   "source": [
    "tsne = TSNE(n_components=2, init='pca', random_state=42, verbose=2)\n",
    "reduced = tsne.fit_transform(embedding_matrix)"
   ]
  },
  {
   "cell_type": "code",
   "execution_count": 180,
   "metadata": {
    "execution": {
     "iopub.execute_input": "2023-11-18T21:45:38.295965Z",
     "iopub.status.busy": "2023-11-18T21:45:38.295415Z",
     "iopub.status.idle": "2023-11-18T21:45:38.300503Z",
     "shell.execute_reply": "2023-11-18T21:45:38.299614Z",
     "shell.execute_reply.started": "2023-11-18T21:45:38.295936Z"
    }
   },
   "outputs": [],
   "source": [
    "top_words = [a for a,_ in top_sorted_freq]"
   ]
  },
  {
   "cell_type": "code",
   "execution_count": 181,
   "metadata": {
    "execution": {
     "iopub.execute_input": "2023-11-18T21:45:38.305014Z",
     "iopub.status.busy": "2023-11-18T21:45:38.301588Z",
     "iopub.status.idle": "2023-11-18T21:45:38.310539Z",
     "shell.execute_reply": "2023-11-18T21:45:38.309626Z",
     "shell.execute_reply.started": "2023-11-18T21:45:38.304983Z"
    }
   },
   "outputs": [],
   "source": [
    "inds = [word2index[word] for word in top_words]\n",
    "x_coords = [coords[0] for coords in reduced[inds]]\n",
    "y_coords = [coords[1] for coords in reduced[inds]]"
   ]
  },
  {
   "cell_type": "code",
   "execution_count": 182,
   "metadata": {
    "execution": {
     "iopub.execute_input": "2023-11-18T21:45:38.311787Z",
     "iopub.status.busy": "2023-11-18T21:45:38.311507Z",
     "iopub.status.idle": "2023-11-18T21:45:41.589742Z",
     "shell.execute_reply": "2023-11-18T21:45:41.588788Z",
     "shell.execute_reply.started": "2023-11-18T21:45:38.311732Z"
    }
   },
   "outputs": [
    {
     "data": {
      "image/png": "[encoded data removed]",
      "text/plain": [
       "<Figure size 1500x1500 with 1 Axes>"
      ]
     },
     "metadata": {},
     "output_type": "display_data"
    }
   ],
   "source": [
    "for (x, y, word) in zip(x_coords, y_coords, top_words):\n",
    "    plt.scatter(x, y, marker='.', color='blue')\n",
    "    plt.text(x+0.01, y+0.01, word, fontsize=9)\n",
    "plt.show()"
   ]
  },
  {
   "cell_type": "markdown",
   "metadata": {},
   "source": [
    "## Эксперименты: пробуем лучше (не вышло)"
   ]
  },
  {
   "cell_type": "code",
   "execution_count": 183,
   "metadata": {
    "execution": {
     "iopub.execute_input": "2023-11-18T21:45:41.591693Z",
     "iopub.status.busy": "2023-11-18T21:45:41.591103Z",
     "iopub.status.idle": "2023-11-18T21:45:42.725676Z",
     "shell.execute_reply": "2023-11-18T21:45:42.724685Z",
     "shell.execute_reply.started": "2023-11-18T21:45:41.591659Z"
    }
   },
   "outputs": [],
   "source": [
    "with open('/kaggle/input/hw-data/processed_corpus_new.json') as f:\n",
    "    corpus_new = json.load(f)"
   ]
  },
  {
   "cell_type": "code",
   "execution_count": 184,
   "metadata": {
    "execution": {
     "iopub.execute_input": "2023-11-18T21:45:42.727166Z",
     "iopub.status.busy": "2023-11-18T21:45:42.726893Z",
     "iopub.status.idle": "2023-11-18T21:45:42.782392Z",
     "shell.execute_reply": "2023-11-18T21:45:42.781271Z",
     "shell.execute_reply.started": "2023-11-18T21:45:42.727142Z"
    }
   },
   "outputs": [],
   "source": [
    "corpus_new = corpus_new[:130000]"
   ]
  },
  {
   "cell_type": "code",
   "execution_count": 185,
   "metadata": {
    "execution": {
     "iopub.execute_input": "2023-11-18T21:45:42.783942Z",
     "iopub.status.busy": "2023-11-18T21:45:42.783598Z",
     "iopub.status.idle": "2023-11-18T21:45:43.029612Z",
     "shell.execute_reply": "2023-11-18T21:45:43.028873Z",
     "shell.execute_reply.started": "2023-11-18T21:45:42.783914Z"
    }
   },
   "outputs": [],
   "source": [
    "word2index_new = {}\n",
    "\n",
    "for text in corpus_new:\n",
    "    for token in text:\n",
    "        if token not in word2index_new:\n",
    "            word2index_new[token] = len(word2index_new)"
   ]
  },
  {
   "cell_type": "code",
   "execution_count": 186,
   "metadata": {
    "execution": {
     "iopub.execute_input": "2023-11-18T21:45:43.040575Z",
     "iopub.status.busy": "2023-11-18T21:45:43.040279Z",
     "iopub.status.idle": "2023-11-18T21:45:47.862534Z",
     "shell.execute_reply": "2023-11-18T21:45:47.861528Z",
     "shell.execute_reply.started": "2023-11-18T21:45:43.040550Z"
    }
   },
   "outputs": [
    {
     "name": "stderr",
     "output_type": "stream",
     "text": [
      "100%|██████████| 130000/130000 [00:04<00:00, 27015.04it/s]\n"
     ]
    }
   ],
   "source": [
    "dataset_new = SkipgramDataset(corpus_new, word2index_new)"
   ]
  },
  {
   "cell_type": "code",
   "execution_count": 187,
   "metadata": {
    "execution": {
     "iopub.execute_input": "2023-11-18T21:45:47.864413Z",
     "iopub.status.busy": "2023-11-18T21:45:47.864126Z",
     "iopub.status.idle": "2023-11-18T21:45:48.009898Z",
     "shell.execute_reply": "2023-11-18T21:45:48.008894Z",
     "shell.execute_reply.started": "2023-11-18T21:45:47.864389Z"
    }
   },
   "outputs": [],
   "source": [
    "dataset_loader_new = DataLoader(dataset_new, shuffle=True, batch_size=BATCH_SIZE)"
   ]
  },
  {
   "cell_type": "code",
   "execution_count": 188,
   "metadata": {
    "execution": {
     "iopub.execute_input": "2023-11-18T21:45:48.011480Z",
     "iopub.status.busy": "2023-11-18T21:45:48.011137Z",
     "iopub.status.idle": "2023-11-18T21:45:48.020407Z",
     "shell.execute_reply": "2023-11-18T21:45:48.019520Z",
     "shell.execute_reply.started": "2023-11-18T21:45:48.011451Z"
    }
   },
   "outputs": [],
   "source": [
    "EMBEDDING_DIM = 32\n",
    "EPOCHS = 10"
   ]
  },
  {
   "cell_type": "code",
   "execution_count": 189,
   "metadata": {
    "execution": {
     "iopub.execute_input": "2023-11-18T21:45:48.021722Z",
     "iopub.status.busy": "2023-11-18T21:45:48.021443Z",
     "iopub.status.idle": "2023-11-18T21:45:48.038955Z",
     "shell.execute_reply": "2023-11-18T21:45:48.038086Z",
     "shell.execute_reply.started": "2023-11-18T21:45:48.021681Z"
    }
   },
   "outputs": [],
   "source": [
    "model_new = SkipGram(vocab_size=len(word2index_new), embedding_dim=EMBEDDING_DIM).to(DEVICE)"
   ]
  },
  {
   "cell_type": "code",
   "execution_count": 190,
   "metadata": {
    "execution": {
     "iopub.execute_input": "2023-11-18T21:45:48.041998Z",
     "iopub.status.busy": "2023-11-18T21:45:48.040056Z",
     "iopub.status.idle": "2023-11-18T21:45:48.046198Z",
     "shell.execute_reply": "2023-11-18T21:45:48.045281Z",
     "shell.execute_reply.started": "2023-11-18T21:45:48.041970Z"
    }
   },
   "outputs": [],
   "source": [
    "from torch.optim.lr_scheduler import ExponentialLR"
   ]
  },
  {
   "cell_type": "code",
   "execution_count": 191,
   "metadata": {
    "execution": {
     "iopub.execute_input": "2023-11-18T21:45:48.047406Z",
     "iopub.status.busy": "2023-11-18T21:45:48.047160Z",
     "iopub.status.idle": "2023-11-18T21:45:48.056882Z",
     "shell.execute_reply": "2023-11-18T21:45:48.055926Z",
     "shell.execute_reply.started": "2023-11-18T21:45:48.047383Z"
    }
   },
   "outputs": [
    {
     "name": "stdout",
     "output_type": "stream",
     "text": [
      "Adjusting learning rate of group 0 to 1.0000e-02.\n"
     ]
    }
   ],
   "source": [
    "LEARNING_RATE = 0.01\n",
    "optimizer = torch.optim.Adam(params=model_new.parameters(), lr=LEARNING_RATE)\n",
    "criterion = torch.nn.CrossEntropyLoss()\n",
    "sheduler = ExponentialLR(optimizer, gamma=0.9, verbose=True)"
   ]
  },
  {
   "cell_type": "code",
   "execution_count": 192,
   "metadata": {
    "execution": {
     "iopub.execute_input": "2023-11-18T21:45:48.058514Z",
     "iopub.status.busy": "2023-11-18T21:45:48.058111Z",
     "iopub.status.idle": "2023-11-18T21:45:48.067340Z",
     "shell.execute_reply": "2023-11-18T21:45:48.066481Z",
     "shell.execute_reply.started": "2023-11-18T21:45:48.058467Z"
    }
   },
   "outputs": [],
   "source": [
    "def train(model, optimizer, criterion, sheduler, dataset_loader, device, epochs=3):\n",
    "\n",
    "    losses = []\n",
    "\n",
    "    for n_epoch in range(epochs):\n",
    "\n",
    "        try:\n",
    "\n",
    "            progress_bar = tqdm(total=len(dataset_loader.dataset), desc='Epoch {}'.format(n_epoch + 1))\n",
    "\n",
    "            for x, y in dataset_loader:\n",
    "                \n",
    "                x, y = x.to(device), y.to(device)\n",
    "                optimizer.zero_grad()\n",
    "\n",
    "                pred = model(x)\n",
    "\n",
    "                loss = criterion(pred, y)\n",
    "\n",
    "                loss.backward()\n",
    "\n",
    "                optimizer.step()\n",
    "\n",
    "                losses.append(loss.item())\n",
    "\n",
    "                progress_bar.set_postfix(loss=np.mean(losses[-100:]))\n",
    "\n",
    "                progress_bar.update(x.shape[0])\n",
    "\n",
    "            progress_bar.close()\n",
    "            sheduler.step()\n",
    "        \n",
    "        except KeyboardInterrupt:\n",
    "\n",
    "            progress_bar.close()\n",
    "            break\n",
    "            \n",
    "    return losses"
   ]
  },
  {
   "cell_type": "code",
   "execution_count": 193,
   "metadata": {
    "execution": {
     "iopub.execute_input": "2023-11-18T21:45:48.068624Z",
     "iopub.status.busy": "2023-11-18T21:45:48.068355Z",
     "iopub.status.idle": "2023-11-18T21:50:21.979931Z",
     "shell.execute_reply": "2023-11-18T21:50:21.979021Z",
     "shell.execute_reply.started": "2023-11-18T21:45:48.068601Z"
    }
   },
   "outputs": [
    {
     "name": "stderr",
     "output_type": "stream",
     "text": [
      "Epoch 1: 100%|██████████| 3875168/3875168 [00:27<00:00, 141717.01it/s, loss=6.82]\n"
     ]
    },
    {
     "name": "stdout",
     "output_type": "stream",
     "text": [
      "Adjusting learning rate of group 0 to 9.0000e-03.\n"
     ]
    },
    {
     "name": "stderr",
     "output_type": "stream",
     "text": [
      "Epoch 2: 100%|██████████| 3875168/3875168 [00:27<00:00, 140434.78it/s, loss=6.73]\n"
     ]
    },
    {
     "name": "stdout",
     "output_type": "stream",
     "text": [
      "Adjusting learning rate of group 0 to 8.1000e-03.\n"
     ]
    },
    {
     "name": "stderr",
     "output_type": "stream",
     "text": [
      "Epoch 3: 100%|██████████| 3875168/3875168 [00:27<00:00, 140934.46it/s, loss=6.68]\n"
     ]
    },
    {
     "name": "stdout",
     "output_type": "stream",
     "text": [
      "Adjusting learning rate of group 0 to 7.2900e-03.\n"
     ]
    },
    {
     "name": "stderr",
     "output_type": "stream",
     "text": [
      "Epoch 4: 100%|██████████| 3875168/3875168 [00:27<00:00, 142874.23it/s, loss=6.64]\n"
     ]
    },
    {
     "name": "stdout",
     "output_type": "stream",
     "text": [
      "Adjusting learning rate of group 0 to 6.5610e-03.\n"
     ]
    },
    {
     "name": "stderr",
     "output_type": "stream",
     "text": [
      "Epoch 5: 100%|██████████| 3875168/3875168 [00:27<00:00, 141023.10it/s, loss=6.61]\n"
     ]
    },
    {
     "name": "stdout",
     "output_type": "stream",
     "text": [
      "Adjusting learning rate of group 0 to 5.9049e-03.\n"
     ]
    },
    {
     "name": "stderr",
     "output_type": "stream",
     "text": [
      "Epoch 6: 100%|██████████| 3875168/3875168 [00:27<00:00, 139793.73it/s, loss=6.6] \n"
     ]
    },
    {
     "name": "stdout",
     "output_type": "stream",
     "text": [
      "Adjusting learning rate of group 0 to 5.3144e-03.\n"
     ]
    },
    {
     "name": "stderr",
     "output_type": "stream",
     "text": [
      "Epoch 7: 100%|██████████| 3875168/3875168 [00:27<00:00, 141475.24it/s, loss=6.59]\n"
     ]
    },
    {
     "name": "stdout",
     "output_type": "stream",
     "text": [
      "Adjusting learning rate of group 0 to 4.7830e-03.\n"
     ]
    },
    {
     "name": "stderr",
     "output_type": "stream",
     "text": [
      "Epoch 8: 100%|██████████| 3875168/3875168 [00:27<00:00, 141461.33it/s, loss=6.59]\n"
     ]
    },
    {
     "name": "stdout",
     "output_type": "stream",
     "text": [
      "Adjusting learning rate of group 0 to 4.3047e-03.\n"
     ]
    },
    {
     "name": "stderr",
     "output_type": "stream",
     "text": [
      "Epoch 9: 100%|██████████| 3875168/3875168 [00:27<00:00, 141740.54it/s, loss=6.57]\n"
     ]
    },
    {
     "name": "stdout",
     "output_type": "stream",
     "text": [
      "Adjusting learning rate of group 0 to 3.8742e-03.\n"
     ]
    },
    {
     "name": "stderr",
     "output_type": "stream",
     "text": [
      "Epoch 10: 100%|██████████| 3875168/3875168 [00:26<00:00, 143575.19it/s, loss=6.54]"
     ]
    },
    {
     "name": "stdout",
     "output_type": "stream",
     "text": [
      "Adjusting learning rate of group 0 to 3.4868e-03.\n"
     ]
    },
    {
     "name": "stderr",
     "output_type": "stream",
     "text": [
      "\n"
     ]
    }
   ],
   "source": [
    "losses_new = train(model_new, optimizer, criterion, sheduler, dataset_loader_new, device=DEVICE, epochs=EPOCHS)"
   ]
  },
  {
   "cell_type": "code",
   "execution_count": 194,
   "metadata": {
    "execution": {
     "iopub.execute_input": "2023-11-18T21:50:21.981422Z",
     "iopub.status.busy": "2023-11-18T21:50:21.981160Z",
     "iopub.status.idle": "2023-11-18T21:50:21.987046Z",
     "shell.execute_reply": "2023-11-18T21:50:21.986135Z",
     "shell.execute_reply.started": "2023-11-18T21:50:21.981399Z"
    }
   },
   "outputs": [],
   "source": [
    "embedding_matrix_new = model_new.cpu().in_embedding.weight.detach()"
   ]
  },
  {
   "cell_type": "code",
   "execution_count": 195,
   "metadata": {
    "execution": {
     "iopub.execute_input": "2023-11-18T21:50:21.988441Z",
     "iopub.status.busy": "2023-11-18T21:50:21.988143Z",
     "iopub.status.idle": "2023-11-18T21:50:21.999235Z",
     "shell.execute_reply": "2023-11-18T21:50:21.998370Z",
     "shell.execute_reply.started": "2023-11-18T21:50:21.988417Z"
    }
   },
   "outputs": [
    {
     "data": {
      "text/plain": [
       "6.553347085952759"
      ]
     },
     "execution_count": 195,
     "metadata": {},
     "output_type": "execute_result"
    }
   ],
   "source": [
    "np.mean(losses_new[-1000:])"
   ]
  },
  {
   "cell_type": "markdown",
   "metadata": {},
   "source": [
    "## Оценка качества эмбеддингов"
   ]
  },
  {
   "cell_type": "code",
   "execution_count": 196,
   "metadata": {
    "execution": {
     "iopub.execute_input": "2023-11-18T21:50:22.000628Z",
     "iopub.status.busy": "2023-11-18T21:50:22.000298Z",
     "iopub.status.idle": "2023-11-18T21:50:22.008127Z",
     "shell.execute_reply": "2023-11-18T21:50:22.007309Z",
     "shell.execute_reply.started": "2023-11-18T21:50:22.000600Z"
    }
   },
   "outputs": [],
   "source": [
    "import pandas as pd"
   ]
  },
  {
   "cell_type": "code",
   "execution_count": 197,
   "metadata": {
    "execution": {
     "iopub.execute_input": "2023-11-18T21:50:22.009305Z",
     "iopub.status.busy": "2023-11-18T21:50:22.009052Z",
     "iopub.status.idle": "2023-11-18T21:50:22.024396Z",
     "shell.execute_reply": "2023-11-18T21:50:22.023483Z",
     "shell.execute_reply.started": "2023-11-18T21:50:22.009276Z"
    }
   },
   "outputs": [],
   "source": [
    "df = pd.read_csv('/kaggle/input/hw-data/ru_simlex965_tagged.tsv', delimiter='\\t')"
   ]
  },
  {
   "cell_type": "code",
   "execution_count": 198,
   "metadata": {
    "execution": {
     "iopub.execute_input": "2023-11-18T21:50:22.025847Z",
     "iopub.status.busy": "2023-11-18T21:50:22.025524Z",
     "iopub.status.idle": "2023-11-18T21:50:22.035366Z",
     "shell.execute_reply": "2023-11-18T21:50:22.034400Z",
     "shell.execute_reply.started": "2023-11-18T21:50:22.025804Z"
    }
   },
   "outputs": [
    {
     "data": {
      "text/html": [
       "<div>\n",
       "<style scoped>\n",
       "    .dataframe tbody tr th:only-of-type {\n",
       "        vertical-align: middle;\n",
       "    }\n",
       "\n",
       "    .dataframe tbody tr th {\n",
       "        vertical-align: top;\n",
       "    }\n",
       "\n",
       "    .dataframe thead th {\n",
       "        text-align: right;\n",
       "    }\n",
       "</style>\n",
       "<table border=\"1\" class=\"dataframe\">\n",
       "  <thead>\n",
       "    <tr style=\"text-align: right;\">\n",
       "      <th></th>\n",
       "      <th># Word1</th>\n",
       "      <th>Word2</th>\n",
       "      <th>Average Score</th>\n",
       "    </tr>\n",
       "  </thead>\n",
       "  <tbody>\n",
       "    <tr>\n",
       "      <th>0</th>\n",
       "      <td>авария_NOUN</td>\n",
       "      <td>бедствие_NOUN</td>\n",
       "      <td>6.15</td>\n",
       "    </tr>\n",
       "    <tr>\n",
       "      <th>1</th>\n",
       "      <td>август_NOUN</td>\n",
       "      <td>месяц_NOUN</td>\n",
       "      <td>2.85</td>\n",
       "    </tr>\n",
       "    <tr>\n",
       "      <th>2</th>\n",
       "      <td>авиация_NOUN</td>\n",
       "      <td>полет_NOUN</td>\n",
       "      <td>6.77</td>\n",
       "    </tr>\n",
       "  </tbody>\n",
       "</table>\n",
       "</div>"
      ],
      "text/plain": [
       "        # Word1          Word2  Average Score\n",
       "0   авария_NOUN  бедствие_NOUN           6.15\n",
       "1   август_NOUN     месяц_NOUN           2.85\n",
       "2  авиация_NOUN     полет_NOUN           6.77"
      ]
     },
     "execution_count": 198,
     "metadata": {},
     "output_type": "execute_result"
    }
   ],
   "source": [
    "df.head(3)"
   ]
  },
  {
   "cell_type": "code",
   "execution_count": 199,
   "metadata": {
    "execution": {
     "iopub.execute_input": "2023-11-18T21:50:22.036690Z",
     "iopub.status.busy": "2023-11-18T21:50:22.036427Z",
     "iopub.status.idle": "2023-11-18T21:50:22.046191Z",
     "shell.execute_reply": "2023-11-18T21:50:22.045265Z",
     "shell.execute_reply.started": "2023-11-18T21:50:22.036666Z"
    }
   },
   "outputs": [],
   "source": [
    "df['# Word1'] = df['# Word1'].apply(lambda x: x.split('_')[0])\n",
    "df['Word2'] = df['Word2'].apply(lambda x: x.split('_')[0])"
   ]
  },
  {
   "cell_type": "code",
   "execution_count": 200,
   "metadata": {
    "execution": {
     "iopub.execute_input": "2023-11-18T21:50:22.047628Z",
     "iopub.status.busy": "2023-11-18T21:50:22.047332Z",
     "iopub.status.idle": "2023-11-18T21:50:22.055429Z",
     "shell.execute_reply": "2023-11-18T21:50:22.054493Z",
     "shell.execute_reply.started": "2023-11-18T21:50:22.047582Z"
    }
   },
   "outputs": [],
   "source": [
    "# Чтобы нормализовать значения в наборе данных между 0 и 1, вы можете использовать следующую формулу:\n",
    "\n",
    "# z i = (x i – мин(х)) / (макс(х) – мин(х))"
   ]
  },
  {
   "cell_type": "code",
   "execution_count": 201,
   "metadata": {
    "execution": {
     "iopub.execute_input": "2023-11-18T21:50:22.056820Z",
     "iopub.status.busy": "2023-11-18T21:50:22.056493Z",
     "iopub.status.idle": "2023-11-18T21:50:22.068743Z",
     "shell.execute_reply": "2023-11-18T21:50:22.067896Z",
     "shell.execute_reply.started": "2023-11-18T21:50:22.056741Z"
    }
   },
   "outputs": [],
   "source": [
    "df['Average Score'] = (df['Average Score'] - df['Average Score'].min()) / (df['Average Score'].max() - df['Average Score'].min())"
   ]
  },
  {
   "cell_type": "code",
   "execution_count": 202,
   "metadata": {
    "execution": {
     "iopub.execute_input": "2023-11-18T21:50:22.070154Z",
     "iopub.status.busy": "2023-11-18T21:50:22.069886Z",
     "iopub.status.idle": "2023-11-18T21:50:22.083705Z",
     "shell.execute_reply": "2023-11-18T21:50:22.082817Z",
     "shell.execute_reply.started": "2023-11-18T21:50:22.070130Z"
    }
   },
   "outputs": [
    {
     "data": {
      "text/html": [
       "<div>\n",
       "<style scoped>\n",
       "    .dataframe tbody tr th:only-of-type {\n",
       "        vertical-align: middle;\n",
       "    }\n",
       "\n",
       "    .dataframe tbody tr th {\n",
       "        vertical-align: top;\n",
       "    }\n",
       "\n",
       "    .dataframe thead th {\n",
       "        text-align: right;\n",
       "    }\n",
       "</style>\n",
       "<table border=\"1\" class=\"dataframe\">\n",
       "  <thead>\n",
       "    <tr style=\"text-align: right;\">\n",
       "      <th></th>\n",
       "      <th># Word1</th>\n",
       "      <th>Word2</th>\n",
       "      <th>Average Score</th>\n",
       "    </tr>\n",
       "  </thead>\n",
       "  <tbody>\n",
       "    <tr>\n",
       "      <th>0</th>\n",
       "      <td>авария</td>\n",
       "      <td>бедствие</td>\n",
       "      <td>0.615</td>\n",
       "    </tr>\n",
       "    <tr>\n",
       "      <th>1</th>\n",
       "      <td>август</td>\n",
       "      <td>месяц</td>\n",
       "      <td>0.285</td>\n",
       "    </tr>\n",
       "    <tr>\n",
       "      <th>2</th>\n",
       "      <td>авиация</td>\n",
       "      <td>полет</td>\n",
       "      <td>0.677</td>\n",
       "    </tr>\n",
       "  </tbody>\n",
       "</table>\n",
       "</div>"
      ],
      "text/plain": [
       "   # Word1     Word2  Average Score\n",
       "0   авария  бедствие          0.615\n",
       "1   август     месяц          0.285\n",
       "2  авиация     полет          0.677"
      ]
     },
     "execution_count": 202,
     "metadata": {},
     "output_type": "execute_result"
    }
   ],
   "source": [
    "df.head(3)"
   ]
  },
  {
   "cell_type": "code",
   "execution_count": 203,
   "metadata": {
    "execution": {
     "iopub.execute_input": "2023-11-18T21:50:22.085642Z",
     "iopub.status.busy": "2023-11-18T21:50:22.084990Z",
     "iopub.status.idle": "2023-11-18T21:50:22.092628Z",
     "shell.execute_reply": "2023-11-18T21:50:22.091677Z",
     "shell.execute_reply.started": "2023-11-18T21:50:22.085607Z"
    }
   },
   "outputs": [],
   "source": [
    "def eval_embs(embedding_matrix, word2index, df):\n",
    "    cossim = [cos_sim(embedding_matrix, word2index, df['# Word1'][i], df['Word2'][i])\n",
    "              if df['# Word1'][i] in word2index and df['Word2'][i] in word2index else None\n",
    "              for i in range(len(df))]\n",
    "    return np.array(cossim)"
   ]
  },
  {
   "cell_type": "code",
   "execution_count": 204,
   "metadata": {
    "execution": {
     "iopub.execute_input": "2023-11-18T21:50:22.094142Z",
     "iopub.status.busy": "2023-11-18T21:50:22.093828Z",
     "iopub.status.idle": "2023-11-18T21:50:22.202035Z",
     "shell.execute_reply": "2023-11-18T21:50:22.201254Z",
     "shell.execute_reply.started": "2023-11-18T21:50:22.094111Z"
    }
   },
   "outputs": [],
   "source": [
    "y_true = np.array(df['Average Score'].tolist())\n",
    "\n",
    "y_pred_initial = eval_embs(embedding_matrix, word2index, df)\n",
    "y_pred_new = eval_embs(embedding_matrix_new, word2index_new, df)"
   ]
  },
  {
   "cell_type": "code",
   "execution_count": 205,
   "metadata": {
    "execution": {
     "iopub.execute_input": "2023-11-18T21:50:22.203483Z",
     "iopub.status.busy": "2023-11-18T21:50:22.203182Z",
     "iopub.status.idle": "2023-11-18T21:50:22.210162Z",
     "shell.execute_reply": "2023-11-18T21:50:22.209152Z",
     "shell.execute_reply.started": "2023-11-18T21:50:22.203457Z"
    }
   },
   "outputs": [],
   "source": [
    "y_true_model_one, y_pred_model_one = zip(*[(y_true[i], y_pred_initial[i]) for i, val in enumerate(y_pred_initial) if val is not None]) \n",
    "y_true_model_two, y_pred_model_two = zip(*[(y_true[i], y_pred_new[i]) for i, val in enumerate(y_pred_new) if val is not None])"
   ]
  },
  {
   "cell_type": "code",
   "execution_count": 206,
   "metadata": {
    "execution": {
     "iopub.execute_input": "2023-11-18T21:50:22.211649Z",
     "iopub.status.busy": "2023-11-18T21:50:22.211313Z",
     "iopub.status.idle": "2023-11-18T21:50:22.218872Z",
     "shell.execute_reply": "2023-11-18T21:50:22.217911Z",
     "shell.execute_reply.started": "2023-11-18T21:50:22.211616Z"
    }
   },
   "outputs": [],
   "source": [
    "from sklearn.metrics import mean_squared_error"
   ]
  },
  {
   "cell_type": "code",
   "execution_count": 207,
   "metadata": {
    "execution": {
     "iopub.execute_input": "2023-11-18T21:50:22.220410Z",
     "iopub.status.busy": "2023-11-18T21:50:22.220060Z",
     "iopub.status.idle": "2023-11-18T21:50:22.230998Z",
     "shell.execute_reply": "2023-11-18T21:50:22.230155Z",
     "shell.execute_reply.started": "2023-11-18T21:50:22.220366Z"
    }
   },
   "outputs": [
    {
     "data": {
      "text/plain": [
       "0.23034606412781922"
      ]
     },
     "execution_count": 207,
     "metadata": {},
     "output_type": "execute_result"
    }
   ],
   "source": [
    "mean_squared_error(y_true_model_one, y_pred_model_one)"
   ]
  },
  {
   "cell_type": "code",
   "execution_count": 208,
   "metadata": {
    "execution": {
     "iopub.execute_input": "2023-11-18T21:50:22.232528Z",
     "iopub.status.busy": "2023-11-18T21:50:22.232090Z",
     "iopub.status.idle": "2023-11-18T21:50:22.240582Z",
     "shell.execute_reply": "2023-11-18T21:50:22.239803Z",
     "shell.execute_reply.started": "2023-11-18T21:50:22.232493Z"
    }
   },
   "outputs": [
    {
     "data": {
      "text/plain": [
       "0.10582584927868537"
      ]
     },
     "execution_count": 208,
     "metadata": {},
     "output_type": "execute_result"
    }
   ],
   "source": [
    "mean_squared_error(y_true_model_two, y_pred_model_two)"
   ]
  },
  {
   "cell_type": "markdown",
   "metadata": {},
   "source": [
    "Лучше сделать не получилось, победила первая модель."
   ]
  },
  {
   "cell_type": "markdown",
   "metadata": {},
   "source": [
    "# Оценка\n",
    "1. Вы добрались сюда и все работает, значит уже получили 7 баллов.\n",
    "2. 8 баллов - Взяли корпус для оценка качества эмбеддингов [здесь](https://rusvectores.org/static/testsets/ru_simlex965_tagged.tsv). Описание к нему [здесь](https://arxiv.org/pdf/1801.06407.pdf). Его английская версия для понимания, того что же это такое [тут](https://fh295.github.io/simlex.html). Если в кратце - он похож а гугл аналогии, просто иначе составлен. Определили качество своих эмбеддингов. Как качество измерить? Можете все значения отнормировать (привести к 1) и затем считать MSE между тем что у вас и что в оригинале.\n",
    "3. 9 баллов - Поставили эксперименты, поменяли любые параметры, хоть корпус увеличили или как то почистили. Показали метрики до и после. После должно быть лучше, иначе это все еще 8 баллов.\n",
    "4. 10 баллов - удивили своим подходом (или просто удивили) пока делили на 9 баллов"
   ]
  }
 ],
 "metadata": {
  "kaggle": {
   "accelerator": "none",
   "dataSources": [
    {
     "datasetId": 4011692,
     "sourceId": 6987233,
     "sourceType": "datasetVersion"
    }
   ],
   "isGpuEnabled": false,
   "isInternetEnabled": true,
   "language": "python",
   "sourceType": "notebook"
  },
  "kernelspec": {
   "display_name": "Python 3 (ipykernel)",
   "language": "python",
   "name": "python3"
  },
  "language_info": {
   "codemirror_mode": {
    "name": "ipython",
    "version": 3
   },
   "file_extension": ".py",
   "mimetype": "text/x-python",
   "name": "python",
   "nbconvert_exporter": "python",
   "pygments_lexer": "ipython3",
   "version": "3.11.6"
  }
 },
 "nbformat": 4,
 "nbformat_minor": 4
}
